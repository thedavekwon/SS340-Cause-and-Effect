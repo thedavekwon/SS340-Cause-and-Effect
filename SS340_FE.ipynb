{
 "metadata": {
  "language_info": {
   "codemirror_mode": {
    "name": "ipython",
    "version": 3
   },
   "file_extension": ".py",
   "mimetype": "text/x-python",
   "name": "python",
   "nbconvert_exporter": "python",
   "pygments_lexer": "ipython3",
   "version": "3.6.9-final"
  },
  "orig_nbformat": 2,
  "kernelspec": {
   "name": "python3",
   "display_name": "Python 3.6.9 64-bit ('venv')",
   "metadata": {
    "interpreter": {
     "hash": "ece91bb22fb5b6bc628a05a304f84753a89a677a928fbb6e94b3106cef71ed5e"
    }
   }
  }
 },
 "nbformat": 4,
 "nbformat_minor": 2,
 "cells": [
  {
   "cell_type": "code",
   "execution_count": 50,
   "metadata": {},
   "outputs": [],
   "source": [
    "from linearmodels import PanelOLS\n",
    "from statsmodels.iolib.summary2 import summary_col\n",
    "import pandas as pd\n",
    "import numpy as np"
   ]
  },
  {
   "cell_type": "code",
   "execution_count": 52,
   "metadata": {},
   "outputs": [],
   "source": [
    "df = pd.read_csv('processed3.csv')\n",
    "df['MSA'].astype('str')\n",
    "df['state'] = df['MSA'].apply(lambda x: x.split(',')[1].strip())\n",
    "df['Year'] = df['Year'].astype(int)\n",
    "df['const'] = 1"
   ]
  },
  {
   "cell_type": "code",
   "execution_count": 53,
   "metadata": {},
   "outputs": [],
   "source": [
    "tdf = df.set_index(['MSA', 'Year'])"
   ]
  },
  {
   "cell_type": "code",
   "execution_count": 54,
   "metadata": {},
   "outputs": [],
   "source": [
    "def pprint(results):\n",
    "    for result in results:\n",
    "        print(round(result.params.values[0], 4), round(result.std_errors.values[0], 4))"
   ]
  },
  {
   "cell_type": "code",
   "execution_count": 55,
   "metadata": {},
   "outputs": [
    {
     "output_type": "stream",
     "name": "stdout",
     "text": [
      "-0.002 0.0003\n"
     ]
    }
   ],
   "source": [
    "mod = PanelOLS(tdf['Crude Rate'], tdf[['min_dist']], entity_effects=False, time_effects=True)\n",
    "time = mod.fit(cov_type='robust')\n",
    "pprint([time])"
   ]
  },
  {
   "cell_type": "code",
   "execution_count": 56,
   "metadata": {},
   "outputs": [
    {
     "output_type": "stream",
     "name": "stdout",
     "text": [
      "                          PanelOLS Estimation Summary                           \n================================================================================\nDep. Variable:             Crude Rate   R-squared:                        0.0086\nEstimator:                   PanelOLS   R-squared (Between):             -0.0565\nNo. Observations:                3926   R-squared (Within):               0.0000\nDate:                Tue, Dec 08 2020   R-squared (Overall):             -0.0525\nTime:                        16:19:16   Log-likelihood                   -8655.4\nCov. Estimator:                Robust                                           \n                                        F-statistic:                      33.877\nEntities:                         105   P-value                           0.0000\nAvg Obs:                       37.390   Distribution:                  F(1,3906)\nMin Obs:                       1.0000                                           \nMax Obs:                       114.00   F-statistic (robust):             51.629\n                                        P-value                           0.0000\nTime periods:                      19   Distribution:                  F(1,3906)\nAvg Obs:                       206.63                                           \nMin Obs:                       176.00                                           \nMax Obs:                       229.00                                           \n                                                                                \n                             Parameter Estimates                              \n==============================================================================\n            Parameter  Std. Err.     T-stat    P-value    Lower CI    Upper CI\n------------------------------------------------------------------------------\nmin_dist      -0.0020     0.0003    -7.1853     0.0000     -0.0025     -0.0014\n==============================================================================\n\nF-test for Poolability: 1.9241\nP-value: 0.0108\nDistribution: F(18,3906)\n\nIncluded effects: Time\n"
     ]
    }
   ],
   "source": [
    "print(time)"
   ]
  },
  {
   "cell_type": "code",
   "execution_count": 57,
   "metadata": {},
   "outputs": [
    {
     "output_type": "stream",
     "name": "stdout",
     "text": [
      "0.0043 0.0007\n-0.002 0.0003\n0.0043 0.0007\n"
     ]
    }
   ],
   "source": [
    "sdf = df.set_index(['state', 'Year'])\n",
    "mod = PanelOLS(sdf['Crude Rate'], sdf[['min_dist']], entity_effects=True, time_effects=False)\n",
    "entity = mod.fit(cov_type='robust')\n",
    "mod = PanelOLS(sdf['Crude Rate'], sdf[['min_dist']], entity_effects=False, time_effects=True)\n",
    "time = mod.fit(cov_type='robust')\n",
    "mod = PanelOLS(sdf['Crude Rate'], sdf[['min_dist']], entity_effects=True, time_effects=True)\n",
    "both = mod.fit(cov_type='robust')\n",
    "pprint([entity, time, both])"
   ]
  },
  {
   "cell_type": "code",
   "execution_count": 58,
   "metadata": {},
   "outputs": [
    {
     "output_type": "stream",
     "name": "stdout",
     "text": [
      "                          PanelOLS Estimation Summary                           \n================================================================================\nDep. Variable:             Crude Rate   R-squared:                        0.0086\nEstimator:                   PanelOLS   R-squared (Between):             -0.0601\nNo. Observations:                3926   R-squared (Within):              -0.0097\nDate:                Tue, Dec 08 2020   R-squared (Overall):             -0.0525\nTime:                        16:19:25   Log-likelihood                   -8655.4\nCov. Estimator:                Robust                                           \n                                        F-statistic:                      33.877\nEntities:                          38   P-value                           0.0000\nAvg Obs:                       103.32   Distribution:                  F(1,3906)\nMin Obs:                       6.0000                                           \nMax Obs:                       476.00   F-statistic (robust):             51.629\n                                        P-value                           0.0000\nTime periods:                      19   Distribution:                  F(1,3906)\nAvg Obs:                       206.63                                           \nMin Obs:                       176.00                                           \nMax Obs:                       229.00                                           \n                                                                                \n                             Parameter Estimates                              \n==============================================================================\n            Parameter  Std. Err.     T-stat    P-value    Lower CI    Upper CI\n------------------------------------------------------------------------------\nmin_dist      -0.0020     0.0003    -7.1853     0.0000     -0.0025     -0.0014\n==============================================================================\n\nF-test for Poolability: 1.9241\nP-value: 0.0108\nDistribution: F(18,3906)\n\nIncluded effects: Time\n"
     ]
    }
   ],
   "source": [
    "print(time)"
   ]
  },
  {
   "cell_type": "code",
   "execution_count": 59,
   "metadata": {},
   "outputs": [
    {
     "output_type": "stream",
     "name": "stdout",
     "text": [
      "                          PanelOLS Estimation Summary                           \n================================================================================\nDep. Variable:             Crude Rate   R-squared:                        0.0086\nEstimator:                   PanelOLS   R-squared (Between):              0.1192\nNo. Observations:                3926   R-squared (Within):               0.0086\nDate:                Tue, Dec 08 2020   R-squared (Overall):              0.1049\nTime:                        16:19:25   Log-likelihood                   -8235.4\nCov. Estimator:                Robust                                           \n                                        F-statistic:                      33.904\nEntities:                          38   P-value                           0.0000\nAvg Obs:                       103.32   Distribution:                  F(1,3887)\nMin Obs:                       6.0000                                           \nMax Obs:                       476.00   F-statistic (robust):             38.502\n                                        P-value                           0.0000\nTime periods:                      19   Distribution:                  F(1,3887)\nAvg Obs:                       206.63                                           \nMin Obs:                       176.00                                           \nMax Obs:                       229.00                                           \n                                                                                \n                             Parameter Estimates                              \n==============================================================================\n            Parameter  Std. Err.     T-stat    P-value    Lower CI    Upper CI\n------------------------------------------------------------------------------\nmin_dist       0.0043     0.0007     6.2050     0.0000      0.0029      0.0057\n==============================================================================\n\nF-test for Poolability: 26.219\nP-value: 0.0000\nDistribution: F(37,3887)\n\nIncluded effects: Entity\n"
     ]
    }
   ],
   "source": [
    "print(entity)"
   ]
  },
  {
   "cell_type": "code",
   "execution_count": 60,
   "metadata": {},
   "outputs": [
    {
     "output_type": "stream",
     "name": "stdout",
     "text": [
      "                          PanelOLS Estimation Summary                           \n================================================================================\nDep. Variable:             Crude Rate   R-squared:                        0.0088\nEstimator:                   PanelOLS   R-squared (Between):              0.1197\nNo. Observations:                3926   R-squared (Within):               0.0086\nDate:                Tue, Dec 08 2020   R-squared (Overall):              0.1054\nTime:                        16:19:26   Log-likelihood                   -8218.8\nCov. Estimator:                Robust                                           \n                                        F-statistic:                      34.387\nEntities:                          38   P-value                           0.0000\nAvg Obs:                       103.32   Distribution:                  F(1,3869)\nMin Obs:                       6.0000                                           \nMax Obs:                       476.00   F-statistic (robust):             38.941\n                                        P-value                           0.0000\nTime periods:                      19   Distribution:                  F(1,3869)\nAvg Obs:                       206.63                                           \nMin Obs:                       176.00                                           \nMax Obs:                       229.00                                           \n                                                                                \n                             Parameter Estimates                              \n==============================================================================\n            Parameter  Std. Err.     T-stat    P-value    Lower CI    Upper CI\n------------------------------------------------------------------------------\nmin_dist       0.0043     0.0007     6.2402     0.0000      0.0030      0.0057\n==============================================================================\n\nF-test for Poolability: 18.304\nP-value: 0.0000\nDistribution: F(55,3869)\n\nIncluded effects: Entity, Time\n"
     ]
    }
   ],
   "source": [
    "print(both)"
   ]
  },
  {
   "cell_type": "code",
   "execution_count": 62,
   "metadata": {},
   "outputs": [],
   "source": [
    "# print out dummies\n",
    "year_str = df.reset_index()[['Year']].astype('str')\n",
    "msa_str = df.reset_index()[['MSA']].astype('str')\n",
    "year_str.index = tdf.index\n",
    "msa_str.index = tdf.index\n",
    "tdf['year_str'] = year_str\n",
    "tdf['msa_str'] = msa_str\n",
    "tdf['year_str'] = tdf['year_str'].astype('str')\n",
    "tdf['msa_str'] = tdf['msa_str'].astype('str')"
   ]
  },
  {
   "cell_type": "code",
   "execution_count": 63,
   "metadata": {},
   "outputs": [
    {
     "output_type": "stream",
     "name": "stdout",
     "text": [
      "                          PanelOLS Estimation Summary                           \n================================================================================\nDep. Variable:             Crude Rate   R-squared:                        0.0168\nEstimator:                   PanelOLS   R-squared (Between):             -0.0197\nNo. Observations:                3926   R-squared (Within):               0.0039\nDate:                Tue, Dec 08 2020   R-squared (Overall):              0.0168\nTime:                        16:19:51   Log-likelihood                   -8655.4\nCov. Estimator:                Robust                                           \n                                        F-statistic:                      3.5225\nEntities:                         105   P-value                           0.0000\nAvg Obs:                       37.390   Distribution:                 F(19,3906)\nMin Obs:                       1.0000                                           \nMax Obs:                       114.00   F-statistic (robust):             4.2712\n                                        P-value                           0.0000\nTime periods:                      19   Distribution:                 F(19,3906)\nAvg Obs:                       206.63                                           \nMin Obs:                       176.00                                           \nMax Obs:                       229.00                                           \n                                                                                \n                               Parameter Estimates                               \n=================================================================================\n               Parameter  Std. Err.     T-stat    P-value    Lower CI    Upper CI\n---------------------------------------------------------------------------------\nconst             7.4985     0.1492     50.245     0.0000      7.2059      7.7911\nmin_dist         -0.0020     0.0003    -7.1853     0.0000     -0.0025     -0.0014\nyear_str.2000    -0.0932     0.2189    -0.4259     0.6702     -0.5223      0.3359\nyear_str.2001    -0.1476     0.2117    -0.6975     0.4855     -0.5627      0.2674\nyear_str.2002     0.0309     0.2142     0.1444     0.8852     -0.3890      0.4508\nyear_str.2003     0.1251     0.2098     0.5963     0.5510     -0.2862      0.5364\nyear_str.2004     0.2528     0.2093     1.2080     0.2271     -0.1575      0.6631\nyear_str.2005     0.4813     0.2127     2.2628     0.0237      0.0643      0.8983\nyear_str.2006     0.2364     0.2055     1.1504     0.2500     -0.1665      0.6393\nyear_str.2007     0.4343     0.2079     2.0886     0.0368      0.0266      0.8419\nyear_str.2008     0.4490     0.2139     2.0989     0.0359      0.0296      0.8684\nyear_str.2009     0.4987     0.2236     2.2305     0.0258      0.0604      0.9370\nyear_str.2010     0.4472     0.2034     2.1986     0.0280      0.0484      0.8459\nyear_str.2011     0.4570     0.2124     2.1514     0.0315      0.0405      0.8735\nyear_str.2012     0.3743     0.2075     1.8042     0.0713     -0.0324      0.7811\nyear_str.2013     0.5014     0.2118     2.3673     0.0180      0.0861      0.9166\nyear_str.2014     0.3901     0.2111     1.8476     0.0647     -0.0239      0.8041\nyear_str.2015     0.5994     0.2166     2.7672     0.0057      0.1747      1.0241\nyear_str.2016     0.4019     0.2098     1.9157     0.0555     -0.0094      0.8132\nyear_str.2017     0.2637     0.2060     1.2804     0.2005     -0.1401      0.6676\n=================================================================================\n\n\n"
     ]
    }
   ],
   "source": [
    "mod = PanelOLS(tdf['Crude Rate'], tdf[['const', 'min_dist', 'year_str']], entity_effects=False, time_effects=False, drop_absorbed=True)\n",
    "entity = mod.fit(cov_type='robust')\n",
    "print(entity)"
   ]
  },
  {
   "cell_type": "code",
   "execution_count": 64,
   "metadata": {},
   "outputs": [],
   "source": [
    "# print out dummies\n",
    "year_str = df.reset_index()[['Year']].astype('str')\n",
    "state_str = df.reset_index()[['state']].astype('str')\n",
    "year_str.index = sdf.index\n",
    "state_str.index = sdf.index\n",
    "sdf['year_str'] = year_str\n",
    "sdf['state_str'] = state_str"
   ]
  },
  {
   "cell_type": "code",
   "execution_count": 65,
   "metadata": {},
   "outputs": [
    {
     "output_type": "stream",
     "name": "stdout",
     "text": [
      "                          PanelOLS Estimation Summary                           \n================================================================================\nDep. Variable:             Crude Rate   R-squared:                        0.0168\nEstimator:                   PanelOLS   R-squared (Between):              0.0225\nNo. Observations:                3926   R-squared (Within):              -0.0019\nDate:                Tue, Dec 08 2020   R-squared (Overall):              0.0168\nTime:                        16:19:59   Log-likelihood                   -8655.4\nCov. Estimator:                Robust                                           \n                                        F-statistic:                      3.5225\nEntities:                          38   P-value                           0.0000\nAvg Obs:                       103.32   Distribution:                 F(19,3906)\nMin Obs:                       6.0000                                           \nMax Obs:                       476.00   F-statistic (robust):             4.2712\n                                        P-value                           0.0000\nTime periods:                      19   Distribution:                 F(19,3906)\nAvg Obs:                       206.63                                           \nMin Obs:                       176.00                                           \nMax Obs:                       229.00                                           \n                                                                                \n                               Parameter Estimates                               \n=================================================================================\n               Parameter  Std. Err.     T-stat    P-value    Lower CI    Upper CI\n---------------------------------------------------------------------------------\nconst             7.4985     0.1492     50.245     0.0000      7.2059      7.7911\nmin_dist         -0.0020     0.0003    -7.1853     0.0000     -0.0025     -0.0014\nyear_str.2000    -0.0932     0.2189    -0.4259     0.6702     -0.5223      0.3359\nyear_str.2001    -0.1476     0.2117    -0.6975     0.4855     -0.5627      0.2674\nyear_str.2002     0.0309     0.2142     0.1444     0.8852     -0.3890      0.4508\nyear_str.2003     0.1251     0.2098     0.5963     0.5510     -0.2862      0.5364\nyear_str.2004     0.2528     0.2093     1.2080     0.2271     -0.1575      0.6631\nyear_str.2005     0.4813     0.2127     2.2628     0.0237      0.0643      0.8983\nyear_str.2006     0.2364     0.2055     1.1504     0.2500     -0.1665      0.6393\nyear_str.2007     0.4343     0.2079     2.0886     0.0368      0.0266      0.8419\nyear_str.2008     0.4490     0.2139     2.0989     0.0359      0.0296      0.8684\nyear_str.2009     0.4987     0.2236     2.2305     0.0258      0.0604      0.9370\nyear_str.2010     0.4472     0.2034     2.1986     0.0280      0.0484      0.8459\nyear_str.2011     0.4570     0.2124     2.1514     0.0315      0.0405      0.8735\nyear_str.2012     0.3743     0.2075     1.8042     0.0713     -0.0324      0.7811\nyear_str.2013     0.5014     0.2118     2.3673     0.0180      0.0861      0.9166\nyear_str.2014     0.3901     0.2111     1.8476     0.0647     -0.0239      0.8041\nyear_str.2015     0.5994     0.2166     2.7672     0.0057      0.1747      1.0241\nyear_str.2016     0.4019     0.2098     1.9157     0.0555     -0.0094      0.8132\nyear_str.2017     0.2637     0.2060     1.2804     0.2005     -0.1401      0.6676\n=================================================================================\n\n\n"
     ]
    }
   ],
   "source": [
    "# time FE\n",
    "mod = PanelOLS(sdf['Crude Rate'], sdf[['const','min_dist', 'year_str']], entity_effects=False, time_effects=False)\n",
    "entity = mod.fit(cov_type='robust')\n",
    "print(entity)"
   ]
  },
  {
   "cell_type": "code",
   "execution_count": 66,
   "metadata": {},
   "outputs": [
    {
     "output_type": "stream",
     "name": "stdout",
     "text": [
      "                          PanelOLS Estimation Summary                           \n================================================================================\nDep. Variable:             Crude Rate   R-squared:                        0.2062\nEstimator:                   PanelOLS   R-squared (Between):              1.0000\nNo. Observations:                3926   R-squared (Within):               0.0086\nDate:                Tue, Dec 08 2020   R-squared (Overall):              0.2062\nTime:                        16:20:15   Log-likelihood                   -8235.4\nCov. Estimator:                Robust                                           \n                                        F-statistic:                      26.576\nEntities:                          38   P-value                           0.0000\nAvg Obs:                       103.32   Distribution:                 F(38,3887)\nMin Obs:                       6.0000                                           \nMax Obs:                       476.00   F-statistic (robust):             34.119\n                                        P-value                           0.0000\nTime periods:                      19   Distribution:                 F(38,3887)\nAvg Obs:                       206.63                                           \nMin Obs:                       176.00                                           \nMax Obs:                       229.00                                           \n                                                                                \n                              Parameter Estimates                               \n================================================================================\n              Parameter  Std. Err.     T-stat    P-value    Lower CI    Upper CI\n--------------------------------------------------------------------------------\nconst            8.4769     0.3191     26.565     0.0000      7.8513      9.1025\nmin_dist         0.0043     0.0007     6.2050     0.0000      0.0029      0.0057\nstate_str.AR     0.7044     0.4573     1.5406     0.1235     -0.1921      1.6009\nstate_str.AZ    -1.2802     0.3490    -3.6688     0.0002     -1.9644     -0.5961\nstate_str.CA    -2.7697     0.3332    -8.3132     0.0000     -3.4229     -2.1165\nstate_str.CO    -3.2928     0.4587    -7.1794     0.0000     -4.1921     -2.3936\nstate_str.CT    -0.0848     0.3608    -0.2351     0.8141     -0.7922      0.6225\nstate_str.DC    -3.2016     0.3703    -8.6466     0.0000     -3.9275     -2.4756\nstate_str.FL    -0.1904     0.3443    -0.5530     0.5803     -0.8655      0.4847\nstate_str.GA    -2.5424     0.4540    -5.5995     0.0000     -3.4326     -1.6522\nstate_str.IA    -0.4690     0.4194    -1.1184     0.2635     -1.2913      0.3532\nstate_str.ID    -1.5374     0.5016    -3.0647     0.0022     -2.5209     -0.5539\nstate_str.IL    -3.2190     0.3825    -8.4164     0.0000     -3.9689     -2.4691\nstate_str.IN    -1.3803     0.3845    -3.5899     0.0003     -2.1341     -0.6265\nstate_str.KY    -0.7409     0.4235    -1.7497     0.0803     -1.5711      0.0893\nstate_str.LA    -0.8625     0.3768    -2.2891     0.0221     -1.6013     -0.1238\nstate_str.MA    -0.8061     0.3493    -2.3078     0.0211     -1.4909     -0.1213\nstate_str.MD    -1.3778     0.4168    -3.3059     0.0010     -2.1950     -0.5607\nstate_str.ME     0.7485     0.4522     1.6554     0.0979     -0.1380      1.6350\nstate_str.MI    -1.4403     0.3659    -3.9365     0.0001     -2.1577     -0.7230\nstate_str.MO    -0.5811     0.3818    -1.5220     0.1281     -1.3297      0.1675\nstate_str.MS     4.0386     0.5392     7.4905     0.0000      2.9816      5.0957\nstate_str.NC    -0.2913     0.3489    -0.8349     0.4038     -0.9753      0.3928\nstate_str.NE    -1.3084     0.4068    -3.2166     0.0013     -2.1059     -0.5109\nstate_str.NM    -3.3102     0.4551    -7.2732     0.0000     -4.2025     -2.4179\nstate_str.NV    -2.8139     0.3846    -7.3174     0.0000     -3.5679     -2.0600\nstate_str.NY    -1.2411     0.3469    -3.5781     0.0004     -1.9212     -0.5611\nstate_str.OH    -0.4128     0.3321    -1.2429     0.2140     -1.0640      0.2383\nstate_str.OK    -1.5642     0.3792    -4.1256     0.0000     -2.3076     -0.8209\nstate_str.OR    -1.2014     0.3941    -3.0485     0.0023     -1.9741     -0.4288\nstate_str.PA    -0.2931     0.3480    -0.8422     0.3997     -0.9753      0.3892\nstate_str.RI    -0.2974     0.3946    -0.7537     0.4511     -1.0710      0.4762\nstate_str.SC     0.1333     0.3686     0.3617     0.7176     -0.5894      0.8560\nstate_str.TN    -1.0725     0.3518    -3.0486     0.0023     -1.7622     -0.3828\nstate_str.TX    -3.0236     0.3312    -9.1304     0.0000     -3.6728     -2.3743\nstate_str.UT    -3.6831     0.4664    -7.8970     0.0000     -4.5975     -2.7687\nstate_str.VA    -1.4146     0.3599    -3.9303     0.0001     -2.1203     -0.7089\nstate_str.WA    -0.5152     0.3793    -1.3581     0.1745     -1.2589      0.2286\nstate_str.WI    -0.3533     0.3721    -0.9494     0.3425     -1.0828      0.3762\n================================================================================\n\n\n"
     ]
    }
   ],
   "source": [
    "# State FE\n",
    "mod = PanelOLS(sdf['Crude Rate'], sdf[['const','min_dist', 'state_str']], entity_effects=False, time_effects=False)\n",
    "entity = mod.fit(cov_type='robust')\n",
    "print(entity)"
   ]
  },
  {
   "cell_type": "code",
   "execution_count": 67,
   "metadata": {},
   "outputs": [
    {
     "output_type": "stream",
     "name": "stdout",
     "text": [
      "                          PanelOLS Estimation Summary                           \n================================================================================\nDep. Variable:             Crude Rate   R-squared:                        0.2129\nEstimator:                   PanelOLS   R-squared (Between):              1.0000\nNo. Observations:                3926   R-squared (Within):               0.0170\nDate:                Tue, Dec 08 2020   R-squared (Overall):              0.2129\nTime:                        16:20:21   Log-likelihood                   -8218.8\nCov. Estimator:                Robust                                           \n                                        F-statistic:                      18.690\nEntities:                          38   P-value                           0.0000\nAvg Obs:                       103.32   Distribution:                 F(56,3869)\nMin Obs:                       6.0000                                           \nMax Obs:                       476.00   F-statistic (robust):             23.694\n                                        P-value                           0.0000\nTime periods:                      19   Distribution:                 F(56,3869)\nAvg Obs:                       206.63                                           \nMin Obs:                       176.00                                           \nMax Obs:                       229.00                                           \n                                                                                \n                               Parameter Estimates                               \n=================================================================================\n               Parameter  Std. Err.     T-stat    P-value    Lower CI    Upper CI\n---------------------------------------------------------------------------------\nconst             8.2319     0.3515     23.422     0.0000      7.5428      8.9210\nmin_dist          0.0043     0.0007     6.2402     0.0000      0.0030      0.0057\nstate_str.AR      0.6331     0.4573     1.3843     0.1664     -0.2636      1.5297\nstate_str.AZ     -1.2804     0.3510    -3.6481     0.0003     -1.9686     -0.5923\nstate_str.CA     -2.7834     0.3366    -8.2692     0.0000     -3.4433     -2.1234\nstate_str.CO     -3.3471     0.4619    -7.2468     0.0000     -4.2526     -2.4416\nstate_str.CT     -0.0839     0.3645    -0.2300     0.8181     -0.7985      0.6308\nstate_str.DC     -3.2027     0.3732    -8.5813     0.0000     -3.9344     -2.4710\nstate_str.FL     -0.2166     0.3478    -0.6228     0.5335     -0.8985      0.4653\nstate_str.GA     -2.5598     0.4545    -5.6326     0.0000     -3.4508     -1.6688\nstate_str.IA     -0.5111     0.4265    -1.1983     0.2309     -1.3472      0.3251\nstate_str.ID     -1.6190     0.5016    -3.2280     0.0013     -2.6023     -0.6357\nstate_str.IL     -3.2182     0.3850    -8.3587     0.0000     -3.9730     -2.4633\nstate_str.IN     -1.3817     0.3881    -3.5602     0.0004     -2.1426     -0.6208\nstate_str.KY     -0.7494     0.4234    -1.7702     0.0768     -1.5795      0.0806\nstate_str.LA     -0.8748     0.3807    -2.2980     0.0216     -1.6211     -0.1284\nstate_str.MA     -0.8068     0.3528    -2.2871     0.0222     -1.4984     -0.1152\nstate_str.MD     -1.3855     0.4218    -3.2846     0.0010     -2.2126     -0.5585\nstate_str.ME      0.6911     0.4530     1.5257     0.1272     -0.1970      1.5793\nstate_str.MI     -1.4441     0.3691    -3.9123     0.0001     -2.1678     -0.7204\nstate_str.MO     -0.5811     0.3794    -1.5315     0.1257     -1.3251      0.1628\nstate_str.MS      3.9682     0.5397     7.3525     0.0000      2.9101      5.0264\nstate_str.NC     -0.3064     0.3517    -0.8712     0.3837     -0.9960      0.3832\nstate_str.NE     -1.3059     0.4104    -3.1824     0.0015     -2.1105     -0.5014\nstate_str.NM     -3.3180     0.4568    -7.2641     0.0000     -4.2135     -2.4225\nstate_str.NV     -2.8174     0.3876    -7.2693     0.0000     -3.5772     -2.0575\nstate_str.NY     -1.2404     0.3504    -3.5401     0.0004     -1.9274     -0.5535\nstate_str.OH     -0.4126     0.3350    -1.2317     0.2181     -1.0693      0.2442\nstate_str.OK     -1.5665     0.3839    -4.0805     0.0000     -2.3192     -0.8138\nstate_str.OR     -1.2036     0.3948    -3.0487     0.0023     -1.9775     -0.4296\nstate_str.PA     -0.3069     0.3511    -0.8743     0.3820     -0.9953      0.3814\nstate_str.RI     -0.2965     0.4021    -0.7374     0.4609     -1.0849      0.4919\nstate_str.SC      0.1133     0.3716     0.3048     0.7605     -0.6153      0.8418\nstate_str.TN     -1.1113     0.3545    -3.1347     0.0017     -1.8063     -0.4162\nstate_str.TX     -3.0392     0.3351    -9.0687     0.0000     -3.6963     -2.3822\nstate_str.UT     -3.7292     0.4682    -7.9647     0.0000     -4.6472     -2.8112\nstate_str.VA     -1.4172     0.3596    -3.9417     0.0001     -2.1222     -0.7123\nstate_str.WA     -0.5540     0.3785    -1.4637     0.1434     -1.2960      0.1881\nstate_str.WI     -0.3573     0.3733    -0.9571     0.3386     -1.0892      0.3746\nyear_str.2000    -0.0425     0.1956    -0.2174     0.8279     -0.4260      0.3410\nyear_str.2001    -0.1557     0.1929    -0.8071     0.4197     -0.5340      0.2225\nyear_str.2002    -0.0026     0.1946    -0.0135     0.9892     -0.3841      0.3788\nyear_str.2003     0.0939     0.1885     0.4982     0.6183     -0.2757      0.4635\nyear_str.2004     0.1813     0.1865     0.9723     0.3310     -0.1843      0.5469\nyear_str.2005     0.3584     0.1905     1.8818     0.0599     -0.0150      0.7318\nyear_str.2006     0.1544     0.1843     0.8379     0.4022     -0.2069      0.5157\nyear_str.2007     0.3379     0.1877     1.7999     0.0719     -0.0302      0.7059\nyear_str.2008     0.3936     0.1919     2.0504     0.0404      0.0172      0.7699\nyear_str.2009     0.4478     0.2022     2.2153     0.0268      0.0515      0.8442\nyear_str.2010     0.4128     0.1814     2.2759     0.0229      0.0572      0.7685\nyear_str.2011     0.3921     0.1907     2.0559     0.0399      0.0182      0.7660\nyear_str.2012     0.3243     0.1858     1.7458     0.0809     -0.0399      0.6885\nyear_str.2013     0.3993     0.1911     2.0894     0.0367      0.0246      0.7740\nyear_str.2014     0.3182     0.1912     1.6638     0.0962     -0.0568      0.6931\nyear_str.2015     0.5348     0.1966     2.7204     0.0065      0.1494      0.9201\nyear_str.2016     0.2981     0.1879     1.5860     0.1128     -0.0704      0.6665\nyear_str.2017     0.1733     0.1857     0.9335     0.3506     -0.1907      0.5373\n=================================================================================\n\n\n"
     ]
    }
   ],
   "source": [
    "# State FE + time FE\n",
    "mod = PanelOLS(sdf['Crude Rate'], sdf[['const', 'min_dist', 'state_str','year_str']], entity_effects=False, time_effects=False)\n",
    "entity = mod.fit(cov_type='robust')\n",
    "print(entity)"
   ]
  },
  {
   "cell_type": "code",
   "execution_count": 69,
   "metadata": {},
   "outputs": [
    {
     "output_type": "stream",
     "name": "stdout",
     "text": [
      "                          PanelOLS Estimation Summary                           \n================================================================================\nDep. Variable:             Crude Rate   R-squared:                        0.3603\nEstimator:                   PanelOLS   R-squared (Between):              1.0000\nNo. Observations:                3926   R-squared (Within):               0.2011\nDate:                Tue, Dec 08 2020   R-squared (Overall):              0.3603\nTime:                        16:20:50   Log-likelihood                   -7811.8\nCov. Estimator:                Robust                                           \n                                        F-statistic:                      56.123\nEntities:                          38   P-value                           0.0000\nAvg Obs:                       103.32   Distribution:                 F(39,3886)\nMin Obs:                       6.0000                                           \nMax Obs:                       476.00   F-statistic (robust):             65.256\n                                        P-value                           0.0000\nTime periods:                      19   Distribution:                 F(39,3886)\nAvg Obs:                       206.63                                           \nMin Obs:                       176.00                                           \nMax Obs:                       229.00                                           \n                                                                                \n                              Parameter Estimates                               \n================================================================================\n              Parameter  Std. Err.     T-stat    P-value    Lower CI    Upper CI\n--------------------------------------------------------------------------------\nconst            7.5985     0.2702     28.119     0.0000      7.0687      8.1283\nmin_dist         0.0044     0.0006     6.8355     0.0000      0.0031      0.0057\nSex              1.7415     0.0563     30.918     0.0000      1.6311      1.8520\nstate_str.AR     0.5193     0.4184     1.2413     0.2146     -0.3009      1.3395\nstate_str.AZ    -1.2810     0.2874    -4.4568     0.0000     -1.8446     -0.7175\nstate_str.CA    -2.8373     0.2837    -10.002     0.0000     -3.3934     -2.2811\nstate_str.CO    -3.4186     0.4081    -8.3775     0.0000     -4.2187     -2.6186\nstate_str.CT    -0.0809     0.2987    -0.2709     0.7865     -0.6665      0.5047\nstate_str.DC    -3.2094     0.3211    -9.9951     0.0000     -3.8390     -2.5799\nstate_str.FL    -0.2119     0.2924    -0.7245     0.4688     -0.7851      0.3614\nstate_str.GA    -2.6211     0.4095    -6.4011     0.0000     -3.4239     -1.8183\nstate_str.IA    -0.6809     0.3787    -1.7981     0.0722     -1.4234      0.0615\nstate_str.ID    -1.6870     0.4358    -3.8709     0.0001     -2.5414     -0.8325\nstate_str.IL    -3.2157     0.3372    -9.5370     0.0000     -3.8768     -2.5547\nstate_str.IN    -1.3859     0.3204    -4.3256     0.0000     -2.0141     -0.7578\nstate_str.KY    -0.7710     0.3422    -2.2534     0.0243     -1.4419     -0.1002\nstate_str.LA    -0.9508     0.3182    -2.9886     0.0028     -1.5746     -0.3271\nstate_str.MA    -0.8034     0.2936    -2.7368     0.0062     -1.3790     -0.2279\nstate_str.MD    -1.3736     0.3657    -3.7566     0.0002     -2.0905     -0.6567\nstate_str.ME     0.6605     0.3812     1.7324     0.0833     -0.0870      1.4079\nstate_str.MI    -1.4551     0.3138    -4.6375     0.0000     -2.0702     -0.8399\nstate_str.MO    -0.5812     0.3028    -1.9193     0.0550     -1.1749      0.0125\nstate_str.MS     3.4607     0.5375     6.4380     0.0000      2.4068      4.5146\nstate_str.NC    -0.3824     0.2954    -1.2945     0.1956     -0.9615      0.1967\nstate_str.NE    -1.3302     0.3384    -3.9314     0.0001     -1.9936     -0.6668\nstate_str.NM    -3.4694     0.3824    -9.0733     0.0000     -4.2190     -2.7197\nstate_str.NV    -2.8278     0.3214    -8.7999     0.0000     -3.4579     -2.1978\nstate_str.NY    -1.2465     0.2976    -4.1891     0.0000     -1.8299     -0.6631\nstate_str.OH    -0.4421     0.2796    -1.5814     0.1139     -0.9902      0.1060\nstate_str.OK    -1.5734     0.3257    -4.8309     0.0000     -2.2119     -0.9348\nstate_str.OR    -1.2100     0.3056    -3.9596     0.0001     -1.8091     -0.6109\nstate_str.PA    -0.3101     0.2970    -1.0441     0.2965     -0.8925      0.2722\nstate_str.RI    -0.2938     0.3173    -0.9261     0.3545     -0.9158      0.3282\nstate_str.SC    -0.0184     0.3104    -0.0593     0.9527     -0.6270      0.5902\nstate_str.TN    -1.1365     0.2988    -3.8035     0.0001     -1.7223     -0.5507\nstate_str.TX    -3.0594     0.2816    -10.866     0.0000     -3.6114     -2.5073\nstate_str.UT    -3.8087     0.4101    -9.2861     0.0000     -4.6128     -3.0045\nstate_str.VA    -1.4097     0.3021    -4.6668     0.0000     -2.0020     -0.8175\nstate_str.WA    -0.6556     0.3177    -2.0638     0.0391     -1.2784     -0.0328\nstate_str.WI    -0.3649     0.3156    -1.1562     0.2477     -0.9836      0.2538\n================================================================================\n\n\n"
     ]
    }
   ],
   "source": [
    "# State FE + Control Sex\n",
    "mod = PanelOLS(sdf['Crude Rate'], sdf[['const', 'min_dist', 'Sex', 'state_str']], entity_effects=False, time_effects=False)\n",
    "entity = mod.fit(cov_type='robust')\n",
    "print(entity)"
   ]
  },
  {
   "cell_type": "code",
   "execution_count": 74,
   "metadata": {},
   "outputs": [],
   "source": [
    "year_str = df.reset_index()[['Year']].astype('str')\n",
    "race_str = df.reset_index()[['Race']].astype('str')\n",
    "rdf = df.copy()\n",
    "rdf = rdf.set_index(['Race', 'Year'])\n",
    "year_str.index = rdf.index\n",
    "race_str.index = rdf.index\n",
    "\n",
    "rdf['year_str'] = year_str\n",
    "rdf['race_str'] = race_str"
   ]
  },
  {
   "cell_type": "code",
   "execution_count": 76,
   "metadata": {},
   "outputs": [
    {
     "output_type": "execute_result",
     "data": {
      "text/plain": [
       "array(['Asian or Pacific Islander', 'Black or African American', 'White'],\n",
       "      dtype=object)"
      ]
     },
     "metadata": {},
     "execution_count": 76
    }
   ],
   "source": [
    "np.unique(rdf['race_str'])"
   ]
  },
  {
   "cell_type": "code",
   "execution_count": 77,
   "metadata": {},
   "outputs": [
    {
     "output_type": "stream",
     "name": "stdout",
     "text": [
      "                          PanelOLS Estimation Summary                           \n================================================================================\nDep. Variable:             Crude Rate   R-squared:                        0.3799\nEstimator:                   PanelOLS   R-squared (Between):              1.0000\nNo. Observations:                3926   R-squared (Within):               0.0406\nDate:                Tue, Dec 08 2020   R-squared (Overall):              0.3799\nTime:                        16:22:09   Log-likelihood                   -7750.7\nCov. Estimator:                Robust                                           \n                                        F-statistic:                      800.93\nEntities:                           3   P-value                           0.0000\nAvg Obs:                       1308.7   Distribution:                  F(3,3922)\nMin Obs:                       122.00                                           \nMax Obs:                       3434.0   F-statistic (robust):             1624.3\n                                        P-value                           0.0000\nTime periods:                      19   Distribution:                  F(3,3922)\nAvg Obs:                       206.63                                           \nMin Obs:                       176.00                                           \nMax Obs:                       229.00                                           \n                                                                                \n                                         Parameter Estimates                                          \n======================================================================================================\n                                    Parameter  Std. Err.     T-stat    P-value    Lower CI    Upper CI\n------------------------------------------------------------------------------------------------------\nconst                                  4.4826     0.1096     40.907     0.0000      4.2678      4.6974\nmin_dist                              -0.0035     0.0002    -14.047     0.0000     -0.0040     -0.0030\nrace_str.Black or African American    -0.1220     0.1195    -1.0213     0.3072     -0.3563      0.1122\nrace_str.White                         4.0127     0.1088     36.884     0.0000      3.7994      4.2260\n======================================================================================================\n\n\n"
     ]
    }
   ],
   "source": [
    "# Race FE\n",
    "mod = PanelOLS(rdf['Crude Rate'], rdf[['const', 'min_dist', 'race_str']], entity_effects=False, time_effects=False)\n",
    "entity = mod.fit(cov_type='robust')\n",
    "print(entity)"
   ]
  },
  {
   "cell_type": "code",
   "execution_count": 78,
   "metadata": {},
   "outputs": [
    {
     "output_type": "stream",
     "name": "stdout",
     "text": [
      "                          PanelOLS Estimation Summary                           \n================================================================================\nDep. Variable:             Crude Rate   R-squared:                        0.3896\nEstimator:                   PanelOLS   R-squared (Between):              1.0000\nNo. Observations:                3926   R-squared (Within):               0.0557\nDate:                Tue, Dec 08 2020   R-squared (Overall):              0.3896\nTime:                        16:22:13   Log-likelihood                   -7719.6\nCov. Estimator:                Robust                                           \n                                        F-statistic:                      118.68\nEntities:                           3   P-value                           0.0000\nAvg Obs:                       1308.7   Distribution:                 F(21,3904)\nMin Obs:                       122.00                                           \nMax Obs:                       3434.0   F-statistic (robust):             240.63\n                                        P-value                           0.0000\nTime periods:                      19   Distribution:                 F(21,3904)\nAvg Obs:                       206.63                                           \nMin Obs:                       176.00                                           \nMax Obs:                       229.00                                           \n                                                                                \n                                         Parameter Estimates                                          \n======================================================================================================\n                                    Parameter  Std. Err.     T-stat    P-value    Lower CI    Upper CI\n------------------------------------------------------------------------------------------------------\nconst                                  4.1524     0.1512     27.469     0.0000      3.8560      4.4488\nmin_dist                              -0.0036     0.0002    -14.270     0.0000     -0.0040     -0.0031\nrace_str.Black or African American    -0.1186     0.1169    -1.0144     0.3104     -0.3478      0.1106\nrace_str.White                         4.0225     0.1060     37.939     0.0000      3.8146      4.2304\nyear_str.2000                         -0.0080     0.1687    -0.0472     0.9624     -0.3388      0.3229\nyear_str.2001                         -0.2068     0.1621    -1.2762     0.2020     -0.5246      0.1109\nyear_str.2002                         -0.0355     0.1685    -0.2105     0.8333     -0.3658      0.2949\nyear_str.2003                          0.1389     0.1587     0.8754     0.3814     -0.1722      0.4500\nyear_str.2004                          0.2665     0.1583     1.6837     0.0923     -0.0438      0.5769\nyear_str.2005                          0.4349     0.1643     2.6466     0.0082      0.1127      0.7570\nyear_str.2006                          0.2409     0.1512     1.5932     0.1112     -0.0556      0.5374\nyear_str.2007                          0.4362     0.1563     2.7902     0.0053      0.1297      0.7427\nyear_str.2008                          0.5066     0.1704     2.9732     0.0030      0.1725      0.8406\nyear_str.2009                          0.5062     0.1778     2.8480     0.0044      0.1577      0.8547\nyear_str.2010                          0.4296     0.1556     2.7604     0.0058      0.1245      0.7347\nyear_str.2011                          0.5064     0.1639     3.0898     0.0020      0.1851      0.8277\nyear_str.2012                          0.4303     0.1591     2.7047     0.0069      0.1184      0.7421\nyear_str.2013                          0.5141     0.1631     3.1508     0.0016      0.1942      0.8339\nyear_str.2014                          0.4243     0.1671     2.5396     0.0111      0.0967      0.7519\nyear_str.2015                          0.6231     0.1677     3.7158     0.0002      0.2943      0.9519\nyear_str.2016                          0.4384     0.1655     2.6495     0.0081      0.1140      0.7628\nyear_str.2017                          0.2612     0.1591     1.6419     0.1007     -0.0507      0.5731\n======================================================================================================\n\n\n"
     ]
    }
   ],
   "source": [
    "# race FE and time FE\n",
    "mod = PanelOLS(rdf['Crude Rate'], rdf[['const', 'min_dist', 'race_str', 'year_str']], entity_effects=False, time_effects=False)\n",
    "entity = mod.fit(cov_type='robust')\n",
    "print(entity)"
   ]
  },
  {
   "cell_type": "code",
   "execution_count": 79,
   "metadata": {},
   "outputs": [
    {
     "output_type": "stream",
     "name": "stdout",
     "text": [
      "                          PanelOLS Estimation Summary                           \n================================================================================\nDep. Variable:             Crude Rate   R-squared:                        0.5368\nEstimator:                   PanelOLS   R-squared (Between):              1.0000\nNo. Observations:                3926   R-squared (Within):               0.2833\nDate:                Tue, Dec 08 2020   R-squared (Overall):              0.5368\nTime:                        16:22:15   Log-likelihood                   -7178.2\nCov. Estimator:                Robust                                           \n                                        F-statistic:                      1135.9\nEntities:                           3   P-value                           0.0000\nAvg Obs:                       1308.7   Distribution:                  F(4,3921)\nMin Obs:                       122.00                                           \nMax Obs:                       3434.0   F-statistic (robust):             1604.7\n                                        P-value                           0.0000\nTime periods:                      19   Distribution:                  F(4,3921)\nAvg Obs:                       206.63                                           \nMin Obs:                       176.00                                           \nMax Obs:                       229.00                                           \n                                                                                \n                                         Parameter Estimates                                          \n======================================================================================================\n                                    Parameter  Std. Err.     T-stat    P-value    Lower CI    Upper CI\n------------------------------------------------------------------------------------------------------\nconst                                  3.5431     0.0985     35.966     0.0000      3.3499      3.7362\nSex                                    1.7547     0.0476     36.902     0.0000      1.6615      1.8480\nmin_dist                              -0.0036     0.0002    -16.381     0.0000     -0.0040     -0.0031\nrace_str.Black or African American    -0.0793     0.1089    -0.7284     0.4664     -0.2927      0.1341\nrace_str.White                         4.0423     0.0959     42.162     0.0000      3.8544      4.2303\n======================================================================================================\n\n\n"
     ]
    }
   ],
   "source": [
    "# race FE + Sex control\n",
    "mod = PanelOLS(rdf['Crude Rate'], rdf[['const', 'Sex', 'min_dist', 'race_str']], entity_effects=False, time_effects=False)\n",
    "entity = mod.fit(cov_type='robust')\n",
    "print(entity)"
   ]
  },
  {
   "cell_type": "code",
   "execution_count": 95,
   "metadata": {},
   "outputs": [],
   "source": [
    "year_str = df.reset_index()[['Year']].astype('str')\n",
    "plant_str = df.reset_index()[['plant_name']].astype('str')\n",
    "pdf = df.copy()\n",
    "pdf = pdf.set_index(['plant_name', 'Year'])\n",
    "year_str.index = pdf.index\n",
    "plant_str.index = pdf.index\n",
    "pdf['year_str'] = year_str\n",
    "pdf['plant_str'] = plant_str"
   ]
  },
  {
   "cell_type": "code",
   "execution_count": 96,
   "metadata": {},
   "outputs": [
    {
     "output_type": "stream",
     "name": "stdout",
     "text": [
      "                          PanelOLS Estimation Summary                           \n================================================================================\nDep. Variable:             Crude Rate   R-squared:                        0.2833\nEstimator:                   PanelOLS   R-squared (Between):              1.0000\nNo. Observations:                3926   R-squared (Within):               0.0015\nDate:                Tue, Dec 08 2020   R-squared (Overall):              0.2833\nTime:                        16:27:01   Log-likelihood                   -8034.9\nCov. Estimator:                Robust                                           \n                                        F-statistic:                      34.086\nEntities:                          45   P-value                           0.0000\nAvg Obs:                       87.244   Distribution:                 F(45,3880)\nMin Obs:                       6.0000                                           \nMax Obs:                       438.00   F-statistic (robust):             37.019\n                                        P-value                           0.0000\nTime periods:                      19   Distribution:                 F(45,3880)\nAvg Obs:                       206.63                                           \nMin Obs:                       176.00                                           \nMax Obs:                       229.00                                           \n                                                                                \n                                              Parameter Estimates                                               \n================================================================================================================\n                                              Parameter  Std. Err.     T-stat    P-value    Lower CI    Upper CI\n----------------------------------------------------------------------------------------------------------------\nconst                                            9.5429     0.3332     28.639     0.0000      8.8896      10.196\nmin_dist                                        -0.0011     0.0004    -3.0201     0.0025     -0.0019     -0.0004\nplant_str.Beaver Valley                         -0.6284     0.3899    -1.6118     0.1071     -1.3928      0.1360\nplant_str.Browns Ferry                          -1.2280     0.3667    -3.3489     0.0008     -1.9469     -0.5091\nplant_str.Byron Generating Station              -1.1476     0.4268    -2.6886     0.0072     -1.9844     -0.3108\nplant_str.Callaway                              -1.1935     0.3972    -3.0048     0.0027     -1.9722     -0.4148\nplant_str.Calvert Cliffs Nuclear Power Plant    -4.0217     0.3853    -10.439     0.0000     -4.7771     -3.2664\nplant_str.Clinton Power Station                 -1.6716     0.3985    -4.1943     0.0000     -2.4530     -0.8902\nplant_str.Columbia Generating Station           -1.0401     0.3587    -2.8998     0.0038     -1.7433     -0.3369\nplant_str.Comanche Peak                         -3.1586     0.3731    -8.4650     0.0000     -3.8902     -2.4271\nplant_str.Cooper Nuclear Station                -1.9992     0.3831    -5.2191     0.0000     -2.7502     -1.2482\nplant_str.Davis Besse                           -1.2236     0.3664    -3.3398     0.0008     -1.9420     -0.5053\nplant_str.Diablo Canyon                         -2.9470     0.3479    -8.4720     0.0000     -3.6290     -2.2650\nplant_str.Dresden Generating Station            -4.0276     0.3971    -10.143     0.0000     -4.8062     -3.2491\nplant_str.Duane Arnold Energy Center            -0.9880     0.4335    -2.2794     0.0227     -1.8378     -0.1382\nplant_str.Edwin I Hatch                         -1.2207     0.4427    -2.7571     0.0059     -2.0887     -0.3526\nplant_str.Fermi                                 -2.4745     0.4086    -6.0565     0.0000     -3.2756     -1.6735\nplant_str.Grand Gulf                             3.2685     0.5500     5.9423     0.0000      2.1901      4.3469\nplant_str.Harris                                -1.1210     0.3947    -2.8397     0.0045     -1.8949     -0.3470\nplant_str.Indian Point 2                        -4.1169     0.3923    -10.494     0.0000     -4.8861     -3.3477\nplant_str.Indian Point 3                        -1.0191     0.3715    -2.7430     0.0061     -1.7475     -0.2907\nplant_str.James A Fitzpatrick                   -0.5275     0.4932    -1.0694     0.2849     -1.4944      0.4395\nplant_str.Joseph M Farley                       -1.9252     0.4176    -4.6101     0.0000     -2.7439     -1.1064\nplant_str.Limerick                              -0.8612     0.4614    -1.8666     0.0620     -1.7657      0.0434\nplant_str.McGuire                               -1.2200     0.3945    -3.0928     0.0020     -1.9934     -0.4466\nplant_str.Millstone                             -1.2012     0.3759    -3.1954     0.0014     -1.9382     -0.4642\nplant_str.Oconee                                -1.3105     0.4431    -2.9575     0.0031     -2.1792     -0.4417\nplant_str.Palisades                             -1.6096     0.4257    -3.7813     0.0002     -2.4442     -0.7750\nplant_str.Palo Verde                            -2.2701     0.3521    -6.4469     0.0000     -2.9604     -1.5797\nplant_str.Peach Bottom                          -1.6470     0.4156    -3.9627     0.0001     -2.4618     -0.8321\nplant_str.Perry                                 -1.0131     0.3616    -2.8018     0.0051     -1.7220     -0.3042\nplant_str.Pilgrim Nuclear Power Station         -1.1165     0.3661    -3.0502     0.0023     -1.8342     -0.3988\nplant_str.Point Beach Nuclear Plant             -0.8435     0.4433    -1.9027     0.0572     -1.7126      0.0257\nplant_str.R E Ginna Nuclear Power Plant         -0.6568     0.3850    -1.7060     0.0881     -1.4115      0.0980\nplant_str.River Bend                            -1.2872     0.4222    -3.0488     0.0023     -2.1149     -0.4594\nplant_str.Seabrook                              -1.0433     0.4106    -2.5411     0.0111     -1.8483     -0.2383\nplant_str.Sequoyah                              -3.4311     0.4238    -8.0953     0.0000     -4.2621     -2.6002\nplant_str.South Texas Project                   -3.4835     0.3555    -9.7989     0.0000     -4.1805     -2.7865\nplant_str.St Lucie                               0.1182     0.3669     0.3223     0.7473     -0.6010      0.8375\nplant_str.Surry                                 -2.3789     0.4017    -5.9226     0.0000     -3.1664     -1.5914\nplant_str.Turkey Point                          -3.2313     0.4329    -7.4643     0.0000     -4.0800     -2.3826\nplant_str.V C Summer                            -0.2920     0.4969    -0.5877     0.5568     -1.2662      0.6821\nplant_str.Vogtle                                 0.5409     0.4219     1.2821     0.1999     -0.2863      1.3681\nplant_str.Waterford 3                           -2.1628     0.4363    -4.9572     0.0000     -3.0183     -1.3074\nplant_str.Watts Bar Nuclear Plant               -1.1383     0.3983    -2.8582     0.0043     -1.9191     -0.3575\nplant_str.Wolf Creek Generating Station         -1.5570     0.3784    -4.1147     0.0000     -2.2988     -0.8151\n================================================================================================================\n\n\n"
     ]
    }
   ],
   "source": [
    "# Plant FE\n",
    "mod = PanelOLS(pdf['Crude Rate'], pdf[['const', 'min_dist', 'plant_str']], entity_effects=False, time_effects=False)\n",
    "entity = mod.fit(cov_type='robust')\n",
    "print(entity)"
   ]
  },
  {
   "cell_type": "code",
   "execution_count": 98,
   "metadata": {},
   "outputs": [
    {
     "output_type": "stream",
     "name": "stdout",
     "text": [
      "                          PanelOLS Estimation Summary                           \n================================================================================\nDep. Variable:             Crude Rate   R-squared:                        0.4337\nEstimator:                   PanelOLS   R-squared (Between):              1.0000\nNo. Observations:                3926   R-squared (Within):               0.2110\nDate:                Tue, Dec 08 2020   R-squared (Overall):              0.4337\nTime:                        16:27:32   Log-likelihood                   -7572.6\nCov. Estimator:                Robust                                           \n                                        F-statistic:                      64.579\nEntities:                          45   P-value                           0.0000\nAvg Obs:                       87.244   Distribution:                 F(46,3879)\nMin Obs:                       6.0000                                           \nMax Obs:                       438.00   F-statistic (robust):             69.983\n                                        P-value                           0.0000\nTime periods:                      19   Distribution:                 F(46,3879)\nAvg Obs:                       206.63                                           \nMin Obs:                       176.00                                           \nMax Obs:                       229.00                                           \n                                                                                \n                                              Parameter Estimates                                               \n================================================================================================================\n                                              Parameter  Std. Err.     T-stat    P-value    Lower CI    Upper CI\n----------------------------------------------------------------------------------------------------------------\nconst                                            8.5032     0.3260     26.087     0.0000      7.8641      9.1422\nmin_dist                                        -0.0012     0.0003    -3.7191     0.0002     -0.0018     -0.0006\nSex                                              1.7215     0.0531     32.436     0.0000      1.6174      1.8255\nplant_str.Beaver Valley                         -0.4473     0.3468    -1.2897     0.1972     -1.1272      0.2327\nplant_str.Browns Ferry                          -1.0773     0.3534    -3.0482     0.0023     -1.7702     -0.3844\nplant_str.Byron Generating Station              -0.9875     0.4221    -2.3397     0.0193     -1.8150     -0.1600\nplant_str.Callaway                              -1.0077     0.3570    -2.8228     0.0048     -1.7075     -0.3078\nplant_str.Calvert Cliffs Nuclear Power Plant    -3.8502     0.3717    -10.358     0.0000     -4.5790     -3.1214\nplant_str.Clinton Power Station                 -1.4809     0.3706    -3.9957     0.0001     -2.2076     -0.7543\nplant_str.Columbia Generating Station           -0.9239     0.3424    -2.6983     0.0070     -1.5952     -0.2526\nplant_str.Comanche Peak                         -2.9804     0.3578    -8.3306     0.0000     -3.6819     -2.2790\nplant_str.Cooper Nuclear Station                -1.8109     0.3606    -5.0215     0.0000     -2.5179     -1.1039\nplant_str.Davis Besse                           -1.0831     0.3512    -3.0842     0.0021     -1.7716     -0.3946\nplant_str.Diablo Canyon                         -2.8168     0.3382    -8.3293     0.0000     -3.4798     -2.1537\nplant_str.Dresden Generating Station            -3.8448     0.3858    -9.9656     0.0000     -4.6012     -3.0884\nplant_str.Duane Arnold Energy Center            -1.0085     0.4230    -2.3843     0.0172     -1.8378     -0.1792\nplant_str.Edwin I Hatch                         -1.0320     0.3957    -2.6082     0.0091     -1.8078     -0.2562\nplant_str.Fermi                                 -2.3160     0.3932    -5.8901     0.0000     -3.0869     -1.5451\nplant_str.Grand Gulf                             2.8781     0.5687     5.0611     0.0000      1.7632      3.9931\nplant_str.Harris                                -1.0505     0.3733    -2.8144     0.0049     -1.7823     -0.3187\nplant_str.Indian Point 2                        -3.9347     0.3808    -10.334     0.0000     -4.6812     -3.1882\nplant_str.Indian Point 3                        -0.8509     0.3511    -2.4237     0.0154     -1.5393     -0.1626\nplant_str.James A Fitzpatrick                   -0.3689     0.4471    -0.8251     0.4094     -1.2454      0.5077\nplant_str.Joseph M Farley                       -1.7525     0.4038    -4.3404     0.0000     -2.5442     -0.9609\nplant_str.Limerick                              -0.6797     0.4179    -1.6263     0.1040     -1.4991      0.1397\nplant_str.McGuire                               -1.1119     0.3747    -2.9674     0.0030     -1.8466     -0.3773\nplant_str.Millstone                             -1.0184     0.3570    -2.8526     0.0044     -1.7183     -0.3185\nplant_str.Oconee                                -1.1292     0.3983    -2.8347     0.0046     -1.9101     -0.3482\nplant_str.Palisades                             -1.4261     0.3777    -3.7761     0.0002     -2.1666     -0.6857\nplant_str.Palo Verde                            -2.0941     0.3380    -6.1961     0.0000     -2.7567     -1.4315\nplant_str.Peach Bottom                          -1.4763     0.3968    -3.7205     0.0002     -2.2542     -0.6983\nplant_str.Perry                                 -0.8484     0.3456    -2.4548     0.0141     -1.5260     -0.1708\nplant_str.Pilgrim Nuclear Power Station         -0.9342     0.3407    -2.7422     0.0061     -1.6021     -0.2663\nplant_str.Point Beach Nuclear Plant             -0.6572     0.3921    -1.6763     0.0938     -1.4259      0.1115\nplant_str.R E Ginna Nuclear Power Plant         -0.4736     0.3625    -1.3067     0.1914     -1.1843      0.2370\nplant_str.River Bend                            -1.3295     0.4130    -3.2186     0.0013     -2.1393     -0.5196\nplant_str.Seabrook                              -0.8977     0.3849    -2.3321     0.0197     -1.6524     -0.1430\nplant_str.Sequoyah                              -3.3209     0.4089    -8.1208     0.0000     -4.1227     -2.5192\nplant_str.South Texas Project                   -3.3410     0.3467    -9.6358     0.0000     -4.0208     -2.6612\nplant_str.St Lucie                               0.2733     0.3497     0.7813     0.4347     -0.4124      0.9589\nplant_str.Surry                                 -2.1741     0.3767    -5.7722     0.0000     -2.9126     -1.4357\nplant_str.Turkey Point                          -3.0385     0.4197    -7.2391     0.0000     -3.8614     -2.2156\nplant_str.V C Summer                            -0.3568     0.4698    -0.7595     0.4476     -1.2779      0.5643\nplant_str.Vogtle                                 0.3952     0.4053     0.9749     0.3297     -0.3995      1.1898\nplant_str.Waterford 3                           -1.9819     0.3952    -5.0143     0.0000     -2.7568     -1.2070\nplant_str.Watts Bar Nuclear Plant               -0.9596     0.3691    -2.5998     0.0094     -1.6833     -0.2360\nplant_str.Wolf Creek Generating Station         -1.4058     0.3625    -3.8780     0.0001     -2.1165     -0.6951\n================================================================================================================\n\n\n"
     ]
    }
   ],
   "source": [
    "# Plant FE + Sex\n",
    "mod = PanelOLS(pdf['Crude Rate'], pdf[['const', 'min_dist', 'Sex','plant_str']], entity_effects=False, time_effects=False)\n",
    "entity = mod.fit(cov_type='robust')\n",
    "print(entity)"
   ]
  },
  {
   "cell_type": "code",
   "execution_count": 102,
   "metadata": {},
   "outputs": [
    {
     "output_type": "stream",
     "name": "stdout",
     "text": [
      "                          PanelOLS Estimation Summary                           \n================================================================================\nDep. Variable:             Crude Rate   R-squared:                        0.4398\nEstimator:                   PanelOLS   R-squared (Between):              1.0000\nNo. Observations:                3926   R-squared (Within):               0.2195\nDate:                Tue, Dec 08 2020   R-squared (Overall):              0.4398\nTime:                        16:28:44   Log-likelihood                   -7551.3\nCov. Estimator:                Robust                                           \n                                        F-statistic:                      47.364\nEntities:                          45   P-value                           0.0000\nAvg Obs:                       87.244   Distribution:                 F(64,3861)\nMin Obs:                       6.0000                                           \nMax Obs:                       438.00   F-statistic (robust):             51.573\n                                        P-value                           0.0000\nTime periods:                      19   Distribution:                 F(64,3861)\nAvg Obs:                       206.63                                           \nMin Obs:                       176.00                                           \nMax Obs:                       229.00                                           \n                                                                                \n                                              Parameter Estimates                                               \n================================================================================================================\n                                              Parameter  Std. Err.     T-stat    P-value    Lower CI    Upper CI\n----------------------------------------------------------------------------------------------------------------\nconst                                            8.1778     0.3429     23.846     0.0000      7.5054      8.8502\nmin_dist                                        -0.0013     0.0003    -3.8878     0.0001     -0.0019     -0.0006\nSex                                              1.7235     0.0530     32.546     0.0000      1.6197      1.8273\nplant_str.Beaver Valley                         -0.3838     0.3380    -1.1355     0.2562     -1.0466      0.2789\nplant_str.Browns Ferry                          -1.0332     0.3473    -2.9748     0.0029     -1.7141     -0.3522\nplant_str.Byron Generating Station              -0.9311     0.4109    -2.2664     0.0235     -1.7366     -0.1256\nplant_str.Callaway                              -0.9413     0.3449    -2.7288     0.0064     -1.6175     -0.2650\nplant_str.Calvert Cliffs Nuclear Power Plant    -3.7882     0.3658    -10.357     0.0000     -4.5054     -3.0711\nplant_str.Clinton Power Station                 -1.4114     0.3656    -3.8602     0.0001     -2.1282     -0.6946\nplant_str.Columbia Generating Station           -0.8797     0.3351    -2.6249     0.0087     -1.5367     -0.2226\nplant_str.Comanche Peak                         -2.9290     0.3524    -8.3103     0.0000     -3.6200     -2.2380\nplant_str.Cooper Nuclear Station                -1.7595     0.3546    -4.9615     0.0000     -2.4548     -1.0642\nplant_str.Davis Besse                           -1.0158     0.3444    -2.9495     0.0032     -1.6911     -0.3406\nplant_str.Diablo Canyon                         -2.7581     0.3319    -8.3111     0.0000     -3.4087     -2.1075\nplant_str.Dresden Generating Station            -3.7803     0.3798    -9.9537     0.0000     -4.5249     -3.0357\nplant_str.Duane Arnold Energy Center            -0.9827     0.4188    -2.3465     0.0190     -1.8038     -0.1616\nplant_str.Edwin I Hatch                         -0.9638     0.3859    -2.4976     0.0125     -1.7203     -0.2072\nplant_str.Fermi                                 -2.2581     0.3879    -5.8211     0.0000     -3.0187     -1.4976\nplant_str.Grand Gulf                             2.8767     0.5659     5.0835     0.0000      1.7672      3.9862\nplant_str.Harris                                -1.0061     0.3668    -2.7426     0.0061     -1.7253     -0.2869\nplant_str.Indian Point 2                        -3.8707     0.3755    -10.308     0.0000     -4.6069     -3.1345\nplant_str.Indian Point 3                        -0.7867     0.3456    -2.2760     0.0229     -1.4643     -0.1090\nplant_str.James A Fitzpatrick                   -0.3037     0.4334    -0.7008     0.4835     -1.1534      0.5460\nplant_str.Joseph M Farley                       -1.6974     0.3987    -4.2578     0.0000     -2.4789     -0.9158\nplant_str.Limerick                              -0.6161     0.4107    -1.5002     0.1336     -1.4213      0.1891\nplant_str.McGuire                               -1.0565     0.3690    -2.8634     0.0042     -1.7799     -0.3331\nplant_str.Millstone                             -0.9556     0.3511    -2.7220     0.0065     -1.6438     -0.2673\nplant_str.Oconee                                -1.0656     0.3913    -2.7235     0.0065     -1.8328     -0.2985\nplant_str.Palisades                             -1.3612     0.3701    -3.6782     0.0002     -2.0868     -0.6357\nplant_str.Palo Verde                            -2.0210     0.3316    -6.0956     0.0000     -2.6710     -1.3710\nplant_str.Peach Bottom                          -1.4461     0.3913    -3.6959     0.0002     -2.2132     -0.6790\nplant_str.Perry                                 -0.7842     0.3376    -2.3225     0.0203     -1.4462     -0.1222\nplant_str.Pilgrim Nuclear Power Station         -0.8700     0.3354    -2.5943     0.0095     -1.5275     -0.2125\nplant_str.Point Beach Nuclear Plant             -0.5906     0.3850    -1.5340     0.1251     -1.3454      0.1642\nplant_str.R E Ginna Nuclear Power Plant         -0.4090     0.3577    -1.1433     0.2530     -1.1102      0.2923\nplant_str.River Bend                            -1.2978     0.4205    -3.0865     0.0020     -2.1222     -0.4734\nplant_str.Seabrook                              -0.8569     0.3774    -2.2703     0.0232     -1.5969     -0.1169\nplant_str.Sequoyah                              -3.2768     0.4023    -8.1454     0.0000     -4.0655     -2.4881\nplant_str.South Texas Project                   -3.2875     0.3419    -9.6168     0.0000     -3.9578     -2.6173\nplant_str.St Lucie                               0.3063     0.3438     0.8908     0.3731     -0.3678      0.9803\nplant_str.Surry                                 -2.1117     0.3632    -5.8141     0.0000     -2.8238     -1.3996\nplant_str.Turkey Point                          -2.9797     0.4164    -7.1566     0.0000     -3.7960     -2.1634\nplant_str.V C Summer                            -0.3154     0.4653    -0.6779     0.4979     -1.2277      0.5968\nplant_str.Vogtle                                 0.4023     0.3986     1.0093     0.3129     -0.3792      1.1837\nplant_str.Waterford 3                           -1.9186     0.3856    -4.9757     0.0000     -2.6746     -1.1626\nplant_str.Watts Bar Nuclear Plant               -0.8946     0.3614    -2.4754     0.0134     -1.6031     -0.1861\nplant_str.Wolf Creek Generating Station         -1.3362     0.3578    -3.7342     0.0002     -2.0377     -0.6346\nyear_str.2000                                    0.0333     0.1758     0.1897     0.8496     -0.3114      0.3781\nyear_str.2001                                   -0.1287     0.1658    -0.7760     0.4378     -0.4538      0.1964\nyear_str.2002                                    0.0584     0.1705     0.3425     0.7320     -0.2759      0.3926\nyear_str.2003                                    0.1206     0.1676     0.7198     0.4717     -0.2080      0.4492\nyear_str.2004                                    0.1738     0.1693     1.0266     0.3047     -0.1581      0.5058\nyear_str.2005                                    0.3812     0.1643     2.3200     0.0204      0.0591      0.7033\nyear_str.2006                                    0.1695     0.1612     1.0515     0.2931     -0.1466      0.4856\nyear_str.2007                                    0.3431     0.1686     2.0346     0.0420      0.0125      0.6737\nyear_str.2008                                    0.4464     0.1676     2.6642     0.0077      0.1179      0.7749\nyear_str.2009                                    0.4531     0.1762     2.5718     0.0102      0.1077      0.7986\nyear_str.2010                                    0.3980     0.1607     2.4759     0.0133      0.0828      0.7131\nyear_str.2011                                    0.3867     0.1682     2.2990     0.0216      0.0569      0.7164\nyear_str.2012                                    0.3412     0.1633     2.0897     0.0367      0.0211      0.6612\nyear_str.2013                                    0.3934     0.1728     2.2771     0.0228      0.0547      0.7322\nyear_str.2014                                    0.3323     0.1658     2.0039     0.0452      0.0072      0.6575\nyear_str.2015                                    0.5647     0.1736     3.2521     0.0012      0.2243      0.9052\nyear_str.2016                                    0.3107     0.1656     1.8760     0.0607     -0.0140      0.6355\nyear_str.2017                                    0.2072     0.1643     1.2613     0.2073     -0.1149      0.5294\n================================================================================================================\n\n\n"
     ]
    }
   ],
   "source": [
    "# Plant FE + Year FE + Sex\n",
    "mod = PanelOLS(pdf['Crude Rate'], pdf[['const', 'min_dist', 'Sex', 'plant_str', 'year_str']], entity_effects=False, time_effects=False)\n",
    "entity = mod.fit(cov_type='robust')\n",
    "print(entity)"
   ]
  },
  {
   "cell_type": "code",
   "execution_count": 101,
   "metadata": {},
   "outputs": [
    {
     "output_type": "stream",
     "name": "stdout",
     "text": [
      "                          PanelOLS Estimation Summary                           \n================================================================================\nDep. Variable:             Crude Rate   R-squared:                        0.2833\nEstimator:                   PanelOLS   R-squared (Between):              1.0000\nNo. Observations:                3926   R-squared (Within):               0.0015\nDate:                Tue, Dec 08 2020   R-squared (Overall):              0.2833\nTime:                        16:28:21   Log-likelihood                   -8034.9\nCov. Estimator:                Robust                                           \n                                        F-statistic:                      34.086\nEntities:                          45   P-value                           0.0000\nAvg Obs:                       87.244   Distribution:                 F(45,3880)\nMin Obs:                       6.0000                                           \nMax Obs:                       438.00   F-statistic (robust):             37.019\n                                        P-value                           0.0000\nTime periods:                      19   Distribution:                 F(45,3880)\nAvg Obs:                       206.63                                           \nMin Obs:                       176.00                                           \nMax Obs:                       229.00                                           \n                                                                                \n                                              Parameter Estimates                                               \n================================================================================================================\n                                              Parameter  Std. Err.     T-stat    P-value    Lower CI    Upper CI\n----------------------------------------------------------------------------------------------------------------\nconst                                            9.5429     0.3332     28.639     0.0000      8.8896      10.196\nmin_dist                                        -0.0011     0.0004    -3.0201     0.0025     -0.0019     -0.0004\nplant_str.Beaver Valley                         -0.6284     0.3899    -1.6118     0.1071     -1.3928      0.1360\nplant_str.Browns Ferry                          -1.2280     0.3667    -3.3489     0.0008     -1.9469     -0.5091\nplant_str.Byron Generating Station              -1.1476     0.4268    -2.6886     0.0072     -1.9844     -0.3108\nplant_str.Callaway                              -1.1935     0.3972    -3.0048     0.0027     -1.9722     -0.4148\nplant_str.Calvert Cliffs Nuclear Power Plant    -4.0217     0.3853    -10.439     0.0000     -4.7771     -3.2664\nplant_str.Clinton Power Station                 -1.6716     0.3985    -4.1943     0.0000     -2.4530     -0.8902\nplant_str.Columbia Generating Station           -1.0401     0.3587    -2.8998     0.0038     -1.7433     -0.3369\nplant_str.Comanche Peak                         -3.1586     0.3731    -8.4650     0.0000     -3.8902     -2.4271\nplant_str.Cooper Nuclear Station                -1.9992     0.3831    -5.2191     0.0000     -2.7502     -1.2482\nplant_str.Davis Besse                           -1.2236     0.3664    -3.3398     0.0008     -1.9420     -0.5053\nplant_str.Diablo Canyon                         -2.9470     0.3479    -8.4720     0.0000     -3.6290     -2.2650\nplant_str.Dresden Generating Station            -4.0276     0.3971    -10.143     0.0000     -4.8062     -3.2491\nplant_str.Duane Arnold Energy Center            -0.9880     0.4335    -2.2794     0.0227     -1.8378     -0.1382\nplant_str.Edwin I Hatch                         -1.2207     0.4427    -2.7571     0.0059     -2.0887     -0.3526\nplant_str.Fermi                                 -2.4745     0.4086    -6.0565     0.0000     -3.2756     -1.6735\nplant_str.Grand Gulf                             3.2685     0.5500     5.9423     0.0000      2.1901      4.3469\nplant_str.Harris                                -1.1210     0.3947    -2.8397     0.0045     -1.8949     -0.3470\nplant_str.Indian Point 2                        -4.1169     0.3923    -10.494     0.0000     -4.8861     -3.3477\nplant_str.Indian Point 3                        -1.0191     0.3715    -2.7430     0.0061     -1.7475     -0.2907\nplant_str.James A Fitzpatrick                   -0.5275     0.4932    -1.0694     0.2849     -1.4944      0.4395\nplant_str.Joseph M Farley                       -1.9252     0.4176    -4.6101     0.0000     -2.7439     -1.1064\nplant_str.Limerick                              -0.8612     0.4614    -1.8666     0.0620     -1.7657      0.0434\nplant_str.McGuire                               -1.2200     0.3945    -3.0928     0.0020     -1.9934     -0.4466\nplant_str.Millstone                             -1.2012     0.3759    -3.1954     0.0014     -1.9382     -0.4642\nplant_str.Oconee                                -1.3105     0.4431    -2.9575     0.0031     -2.1792     -0.4417\nplant_str.Palisades                             -1.6096     0.4257    -3.7813     0.0002     -2.4442     -0.7750\nplant_str.Palo Verde                            -2.2701     0.3521    -6.4469     0.0000     -2.9604     -1.5797\nplant_str.Peach Bottom                          -1.6470     0.4156    -3.9627     0.0001     -2.4618     -0.8321\nplant_str.Perry                                 -1.0131     0.3616    -2.8018     0.0051     -1.7220     -0.3042\nplant_str.Pilgrim Nuclear Power Station         -1.1165     0.3661    -3.0502     0.0023     -1.8342     -0.3988\nplant_str.Point Beach Nuclear Plant             -0.8435     0.4433    -1.9027     0.0572     -1.7126      0.0257\nplant_str.R E Ginna Nuclear Power Plant         -0.6568     0.3850    -1.7060     0.0881     -1.4115      0.0980\nplant_str.River Bend                            -1.2872     0.4222    -3.0488     0.0023     -2.1149     -0.4594\nplant_str.Seabrook                              -1.0433     0.4106    -2.5411     0.0111     -1.8483     -0.2383\nplant_str.Sequoyah                              -3.4311     0.4238    -8.0953     0.0000     -4.2621     -2.6002\nplant_str.South Texas Project                   -3.4835     0.3555    -9.7989     0.0000     -4.1805     -2.7865\nplant_str.St Lucie                               0.1182     0.3669     0.3223     0.7473     -0.6010      0.8375\nplant_str.Surry                                 -2.3789     0.4017    -5.9226     0.0000     -3.1664     -1.5914\nplant_str.Turkey Point                          -3.2313     0.4329    -7.4643     0.0000     -4.0800     -2.3826\nplant_str.V C Summer                            -0.2920     0.4969    -0.5877     0.5568     -1.2662      0.6821\nplant_str.Vogtle                                 0.5409     0.4219     1.2821     0.1999     -0.2863      1.3681\nplant_str.Waterford 3                           -2.1628     0.4363    -4.9572     0.0000     -3.0183     -1.3074\nplant_str.Watts Bar Nuclear Plant               -1.1383     0.3983    -2.8582     0.0043     -1.9191     -0.3575\nplant_str.Wolf Creek Generating Station         -1.5570     0.3784    -4.1147     0.0000     -2.2988     -0.8151\n================================================================================================================\n\n\n"
     ]
    }
   ],
   "source": [
    "# Plant FE + Sex\n",
    "mod = PanelOLS(pdf['Crude Rate'], pdf[['const', 'min_dist', 'plant_str']], entity_effects=False, time_effects=False)\n",
    "entity = mod.fit(cov_type='robust')\n",
    "print(entity)"
   ]
  }
 ]
}