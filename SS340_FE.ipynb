{
 "metadata": {
  "language_info": {
   "codemirror_mode": {
    "name": "ipython",
    "version": 3
   },
   "file_extension": ".py",
   "mimetype": "text/x-python",
   "name": "python",
   "nbconvert_exporter": "python",
   "pygments_lexer": "ipython3",
   "version": "3.6.9-final"
  },
  "orig_nbformat": 2,
  "kernelspec": {
   "name": "python3",
   "display_name": "Python 3.6.9 64-bit ('venv')",
   "metadata": {
    "interpreter": {
     "hash": "ece91bb22fb5b6bc628a05a304f84753a89a677a928fbb6e94b3106cef71ed5e"
    }
   }
  }
 },
 "nbformat": 4,
 "nbformat_minor": 2,
 "cells": [
  {
   "cell_type": "code",
   "execution_count": 51,
   "metadata": {},
   "outputs": [],
   "source": [
    "from linearmodels import PanelOLS\n",
    "from statsmodels.iolib.summary2 import summary_col\n",
    "import pandas as pd\n",
    "import numpy as np"
   ]
  },
  {
   "cell_type": "code",
   "execution_count": 45,
   "metadata": {},
   "outputs": [
    {
     "output_type": "stream",
     "name": "stdout",
     "text": [
      "105\n19\n"
     ]
    }
   ],
   "source": [
    "df = pd.read_csv('processed.csv')\n",
    "df['const'] = 1\n",
    "print(len(np.unique(df['MSA'])))\n",
    "print(len(np.unique(df['Year'])))"
   ]
  },
  {
   "cell_type": "code",
   "execution_count": 46,
   "metadata": {},
   "outputs": [
    {
     "output_type": "execute_result",
     "data": {
      "text/plain": [
       "                       Sex Sex Code   Race Race Code  Year Code  \\\n",
       "MSA            Year                                               \n",
       "Akron, OH      1999.0    0        F  White    2106-3     1999.0   \n",
       "               2000.0    0        F  White    2106-3     2000.0   \n",
       "               2001.0    0        F  White    2106-3     2001.0   \n",
       "               2002.0    0        F  White    2106-3     2002.0   \n",
       "               2003.0    0        F  White    2106-3     2003.0   \n",
       "...                    ...      ...    ...       ...        ...   \n",
       "Youngstown, OH 2013.0    1        M  White    2106-3     2013.0   \n",
       "               2014.0    1        M  White    2106-3     2014.0   \n",
       "               2015.0    1        M  White    2106-3     2015.0   \n",
       "               2016.0    1        M  White    2106-3     2016.0   \n",
       "               2017.0    1        M  White    2106-3     2017.0   \n",
       "\n",
       "                                 Leading Cancer Sites  \\\n",
       "MSA            Year                                     \n",
       "Akron, OH      1999.0  Brain and Other Nervous System   \n",
       "               2000.0  Brain and Other Nervous System   \n",
       "               2001.0  Brain and Other Nervous System   \n",
       "               2002.0  Brain and Other Nervous System   \n",
       "               2003.0  Brain and Other Nervous System   \n",
       "...                                               ...   \n",
       "Youngstown, OH 2013.0  Brain and Other Nervous System   \n",
       "               2014.0  Brain and Other Nervous System   \n",
       "               2015.0  Brain and Other Nervous System   \n",
       "               2016.0  Brain and Other Nervous System   \n",
       "               2017.0  Brain and Other Nervous System   \n",
       "\n",
       "                      Leading Cancer Sites Code  Count  Population  \\\n",
       "MSA            Year                                                  \n",
       "Akron, OH      1999.0               31010-31040   17.0      310511   \n",
       "               2000.0               31010-31040   26.0      310857   \n",
       "               2001.0               31010-31040   17.0      310845   \n",
       "               2002.0               31010-31040   24.0      310777   \n",
       "               2003.0               31010-31040   22.0      310310   \n",
       "...                                         ...    ...         ...   \n",
       "Youngstown, OH 2013.0               31010-31040   26.0      236173   \n",
       "               2014.0               31010-31040   23.0      235027   \n",
       "               2015.0               31010-31040   31.0      233088   \n",
       "               2016.0               31010-31040   26.0      231337   \n",
       "               2017.0               31010-31040   20.0      230116   \n",
       "\n",
       "                       Crude Rate   latitude  longitude   min_dist  \\\n",
       "MSA            Year                                                  \n",
       "Akron, OH      1999.0         5.5  41.083064 -81.518485  53.201224   \n",
       "               2000.0         8.4  41.083064 -81.518485  53.201224   \n",
       "               2001.0         5.5  41.083064 -81.518485  53.201224   \n",
       "               2002.0         7.7  41.083064 -81.518485  53.201224   \n",
       "               2003.0         7.1  41.083064 -81.518485  53.201224   \n",
       "...                           ...        ...        ...        ...   \n",
       "Youngstown, OH 2013.0        11.0  41.103579 -80.652016  35.152136   \n",
       "               2014.0         9.8  41.103579 -80.652016  35.152136   \n",
       "               2015.0        13.3  41.103579 -80.652016  35.152136   \n",
       "               2016.0        11.2  41.103579 -80.652016  35.152136   \n",
       "               2017.0         8.7  41.103579 -80.652016  35.152136   \n",
       "\n",
       "                       min_dist_squared  const  \n",
       "MSA            Year                             \n",
       "Akron, OH      1999.0       2830.370286    1.0  \n",
       "               2000.0       2830.370286    1.0  \n",
       "               2001.0       2830.370286    1.0  \n",
       "               2002.0       2830.370286    1.0  \n",
       "               2003.0       2830.370286    1.0  \n",
       "...                                 ...    ...  \n",
       "Youngstown, OH 2013.0       1235.672662    1.0  \n",
       "               2014.0       1235.672662    1.0  \n",
       "               2015.0       1235.672662    1.0  \n",
       "               2016.0       1235.672662    1.0  \n",
       "               2017.0       1235.672662    1.0  \n",
       "\n",
       "[3926 rows x 15 columns]"
      ],
      "text/html": "<div>\n<style scoped>\n    .dataframe tbody tr th:only-of-type {\n        vertical-align: middle;\n    }\n\n    .dataframe tbody tr th {\n        vertical-align: top;\n    }\n\n    .dataframe thead th {\n        text-align: right;\n    }\n</style>\n<table border=\"1\" class=\"dataframe\">\n  <thead>\n    <tr style=\"text-align: right;\">\n      <th></th>\n      <th></th>\n      <th>Sex</th>\n      <th>Sex Code</th>\n      <th>Race</th>\n      <th>Race Code</th>\n      <th>Year Code</th>\n      <th>Leading Cancer Sites</th>\n      <th>Leading Cancer Sites Code</th>\n      <th>Count</th>\n      <th>Population</th>\n      <th>Crude Rate</th>\n      <th>latitude</th>\n      <th>longitude</th>\n      <th>min_dist</th>\n      <th>min_dist_squared</th>\n      <th>const</th>\n    </tr>\n    <tr>\n      <th>MSA</th>\n      <th>Year</th>\n      <th></th>\n      <th></th>\n      <th></th>\n      <th></th>\n      <th></th>\n      <th></th>\n      <th></th>\n      <th></th>\n      <th></th>\n      <th></th>\n      <th></th>\n      <th></th>\n      <th></th>\n      <th></th>\n      <th></th>\n    </tr>\n  </thead>\n  <tbody>\n    <tr>\n      <th rowspan=\"5\" valign=\"top\">Akron, OH</th>\n      <th>1999.0</th>\n      <td>0</td>\n      <td>F</td>\n      <td>White</td>\n      <td>2106-3</td>\n      <td>1999.0</td>\n      <td>Brain and Other Nervous System</td>\n      <td>31010-31040</td>\n      <td>17.0</td>\n      <td>310511</td>\n      <td>5.5</td>\n      <td>41.083064</td>\n      <td>-81.518485</td>\n      <td>53.201224</td>\n      <td>2830.370286</td>\n      <td>1.0</td>\n    </tr>\n    <tr>\n      <th>2000.0</th>\n      <td>0</td>\n      <td>F</td>\n      <td>White</td>\n      <td>2106-3</td>\n      <td>2000.0</td>\n      <td>Brain and Other Nervous System</td>\n      <td>31010-31040</td>\n      <td>26.0</td>\n      <td>310857</td>\n      <td>8.4</td>\n      <td>41.083064</td>\n      <td>-81.518485</td>\n      <td>53.201224</td>\n      <td>2830.370286</td>\n      <td>1.0</td>\n    </tr>\n    <tr>\n      <th>2001.0</th>\n      <td>0</td>\n      <td>F</td>\n      <td>White</td>\n      <td>2106-3</td>\n      <td>2001.0</td>\n      <td>Brain and Other Nervous System</td>\n      <td>31010-31040</td>\n      <td>17.0</td>\n      <td>310845</td>\n      <td>5.5</td>\n      <td>41.083064</td>\n      <td>-81.518485</td>\n      <td>53.201224</td>\n      <td>2830.370286</td>\n      <td>1.0</td>\n    </tr>\n    <tr>\n      <th>2002.0</th>\n      <td>0</td>\n      <td>F</td>\n      <td>White</td>\n      <td>2106-3</td>\n      <td>2002.0</td>\n      <td>Brain and Other Nervous System</td>\n      <td>31010-31040</td>\n      <td>24.0</td>\n      <td>310777</td>\n      <td>7.7</td>\n      <td>41.083064</td>\n      <td>-81.518485</td>\n      <td>53.201224</td>\n      <td>2830.370286</td>\n      <td>1.0</td>\n    </tr>\n    <tr>\n      <th>2003.0</th>\n      <td>0</td>\n      <td>F</td>\n      <td>White</td>\n      <td>2106-3</td>\n      <td>2003.0</td>\n      <td>Brain and Other Nervous System</td>\n      <td>31010-31040</td>\n      <td>22.0</td>\n      <td>310310</td>\n      <td>7.1</td>\n      <td>41.083064</td>\n      <td>-81.518485</td>\n      <td>53.201224</td>\n      <td>2830.370286</td>\n      <td>1.0</td>\n    </tr>\n    <tr>\n      <th>...</th>\n      <th>...</th>\n      <td>...</td>\n      <td>...</td>\n      <td>...</td>\n      <td>...</td>\n      <td>...</td>\n      <td>...</td>\n      <td>...</td>\n      <td>...</td>\n      <td>...</td>\n      <td>...</td>\n      <td>...</td>\n      <td>...</td>\n      <td>...</td>\n      <td>...</td>\n      <td>...</td>\n    </tr>\n    <tr>\n      <th rowspan=\"5\" valign=\"top\">Youngstown, OH</th>\n      <th>2013.0</th>\n      <td>1</td>\n      <td>M</td>\n      <td>White</td>\n      <td>2106-3</td>\n      <td>2013.0</td>\n      <td>Brain and Other Nervous System</td>\n      <td>31010-31040</td>\n      <td>26.0</td>\n      <td>236173</td>\n      <td>11.0</td>\n      <td>41.103579</td>\n      <td>-80.652016</td>\n      <td>35.152136</td>\n      <td>1235.672662</td>\n      <td>1.0</td>\n    </tr>\n    <tr>\n      <th>2014.0</th>\n      <td>1</td>\n      <td>M</td>\n      <td>White</td>\n      <td>2106-3</td>\n      <td>2014.0</td>\n      <td>Brain and Other Nervous System</td>\n      <td>31010-31040</td>\n      <td>23.0</td>\n      <td>235027</td>\n      <td>9.8</td>\n      <td>41.103579</td>\n      <td>-80.652016</td>\n      <td>35.152136</td>\n      <td>1235.672662</td>\n      <td>1.0</td>\n    </tr>\n    <tr>\n      <th>2015.0</th>\n      <td>1</td>\n      <td>M</td>\n      <td>White</td>\n      <td>2106-3</td>\n      <td>2015.0</td>\n      <td>Brain and Other Nervous System</td>\n      <td>31010-31040</td>\n      <td>31.0</td>\n      <td>233088</td>\n      <td>13.3</td>\n      <td>41.103579</td>\n      <td>-80.652016</td>\n      <td>35.152136</td>\n      <td>1235.672662</td>\n      <td>1.0</td>\n    </tr>\n    <tr>\n      <th>2016.0</th>\n      <td>1</td>\n      <td>M</td>\n      <td>White</td>\n      <td>2106-3</td>\n      <td>2016.0</td>\n      <td>Brain and Other Nervous System</td>\n      <td>31010-31040</td>\n      <td>26.0</td>\n      <td>231337</td>\n      <td>11.2</td>\n      <td>41.103579</td>\n      <td>-80.652016</td>\n      <td>35.152136</td>\n      <td>1235.672662</td>\n      <td>1.0</td>\n    </tr>\n    <tr>\n      <th>2017.0</th>\n      <td>1</td>\n      <td>M</td>\n      <td>White</td>\n      <td>2106-3</td>\n      <td>2017.0</td>\n      <td>Brain and Other Nervous System</td>\n      <td>31010-31040</td>\n      <td>20.0</td>\n      <td>230116</td>\n      <td>8.7</td>\n      <td>41.103579</td>\n      <td>-80.652016</td>\n      <td>35.152136</td>\n      <td>1235.672662</td>\n      <td>1.0</td>\n    </tr>\n  </tbody>\n</table>\n<p>3926 rows × 15 columns</p>\n</div>"
     },
     "metadata": {},
     "execution_count": 46
    }
   ],
   "source": [
    "df = df.set_index(['MSA', 'Year'])\n",
    "df"
   ]
  },
  {
   "cell_type": "code",
   "execution_count": 72,
   "metadata": {},
   "outputs": [],
   "source": [
    "def pprint(results):\n",
    "    for result in results:\n",
    "        print(round(result.params.values[0], 4), round(result.std_errors.values[0], 4))"
   ]
  },
  {
   "cell_type": "code",
   "execution_count": 76,
   "metadata": {},
   "outputs": [
    {
     "output_type": "stream",
     "name": "stdout",
     "text": [
      "-0.0023 310741275662.3998\n-0.0021 0.0003\n-0.0022 311134029423.8452\n"
     ]
    }
   ],
   "source": [
    "mod = PanelOLS(df['Crude Rate'], df[['min_dist']], entity_effects=True, time_effects=False)\n",
    "entity = mod.fit(cov_type='robust')\n",
    "mod = PanelOLS(df['Crude Rate'], df[['min_dist']], entity_effects=False, time_effects=True)\n",
    "time = mod.fit(cov_type='robust')\n",
    "mod = PanelOLS(df['Crude Rate'], df[['min_dist']], entity_effects=True, time_effects=True)\n",
    "both = mod.fit(cov_type='robust')\n",
    "pprint([entity, time, both])"
   ]
  }
 ]
}