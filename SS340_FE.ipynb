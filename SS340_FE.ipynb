{
 "metadata": {
  "language_info": {
   "codemirror_mode": {
    "name": "ipython",
    "version": 3
   },
   "file_extension": ".py",
   "mimetype": "text/x-python",
   "name": "python",
   "nbconvert_exporter": "python",
   "pygments_lexer": "ipython3",
   "version": "3.6.9-final"
  },
  "orig_nbformat": 2,
  "kernelspec": {
   "name": "python3",
   "display_name": "Python 3.6.9 64-bit ('venv')",
   "metadata": {
    "interpreter": {
     "hash": "ece91bb22fb5b6bc628a05a304f84753a89a677a928fbb6e94b3106cef71ed5e"
    }
   }
  }
 },
 "nbformat": 4,
 "nbformat_minor": 2,
 "cells": [
  {
   "cell_type": "code",
   "execution_count": 1,
   "metadata": {},
   "outputs": [],
   "source": [
    "from linearmodels import PanelOLS\n",
    "from statsmodels.iolib.summary2 import summary_col\n",
    "import pandas as pd\n",
    "import numpy as np"
   ]
  },
  {
   "cell_type": "code",
   "execution_count": 10,
   "metadata": {},
   "outputs": [
    {
     "output_type": "stream",
     "name": "stdout",
     "text": [
      "105\n38\n19\n"
     ]
    }
   ],
   "source": [
    "df = pd.read_csv('processed.csv')\n",
    "df['const'] = 1\n",
    "df['state'] = df['MSA'].apply(lambda x: x.split(',')[1].strip())\n",
    "print(len(np.unique(df['MSA'])))\n",
    "print(len(np.unique(df['state'])))\n",
    "print(len(np.unique(df['Year'])))"
   ]
  },
  {
   "cell_type": "code",
   "execution_count": 11,
   "metadata": {},
   "outputs": [],
   "source": [
    "tdf = df.set_index(['MSA', 'Year'])"
   ]
  },
  {
   "cell_type": "code",
   "execution_count": 12,
   "metadata": {},
   "outputs": [],
   "source": [
    "def pprint(results):\n",
    "    for result in results:\n",
    "        print(round(result.params.values[0], 4), round(result.std_errors.values[0], 4))"
   ]
  },
  {
   "cell_type": "code",
   "execution_count": 13,
   "metadata": {},
   "outputs": [
    {
     "output_type": "stream",
     "name": "stdout",
     "text": [
      "-0.0023 310741275662.3998\n-0.0021 0.0003\n-0.0022 311134029423.8452\n"
     ]
    }
   ],
   "source": [
    "mod = PanelOLS(tdf['Crude Rate'], tdf[['min_dist']], entity_effects=True, time_effects=False)\n",
    "entity = mod.fit(cov_type='robust')\n",
    "mod = PanelOLS(tdf['Crude Rate'], tdf[['min_dist']], entity_effects=False, time_effects=True)\n",
    "time = mod.fit(cov_type='robust')\n",
    "mod = PanelOLS(tdf['Crude Rate'], tdf[['min_dist']], entity_effects=True, time_effects=True)\n",
    "both = mod.fit(cov_type='robust')\n",
    "pprint([entity, time, both])"
   ]
  },
  {
   "cell_type": "code",
   "execution_count": 14,
   "metadata": {},
   "outputs": [
    {
     "output_type": "stream",
     "name": "stdout",
     "text": [
      "                          PanelOLS Estimation Summary                           \n================================================================================\nDep. Variable:             Crude Rate   R-squared:                        0.0094\nEstimator:                   PanelOLS   R-squared (Between):             -0.0592\nNo. Observations:                3926   R-squared (Within):               0.0000\nDate:                Fri, Dec 04 2020   R-squared (Overall):             -0.0553\nTime:                        22:33:36   Log-likelihood                   -8653.9\nCov. Estimator:                Robust                                           \n                                        F-statistic:                      36.924\nEntities:                         105   P-value                           0.0000\nAvg Obs:                       37.390   Distribution:                  F(1,3906)\nMin Obs:                       1.0000                                           \nMax Obs:                       114.00   F-statistic (robust):             56.272\n                                        P-value                           0.0000\nTime periods:                      19   Distribution:                  F(1,3906)\nAvg Obs:                       206.63                                           \nMin Obs:                       176.00                                           \nMax Obs:                       229.00                                           \n                                                                                \n                             Parameter Estimates                              \n==============================================================================\n            Parameter  Std. Err.     T-stat    P-value    Lower CI    Upper CI\n------------------------------------------------------------------------------\nmin_dist      -0.0021     0.0003    -7.5015     0.0000     -0.0026     -0.0015\n==============================================================================\n\nF-test for Poolability: 1.9275\nP-value: 0.0106\nDistribution: F(18,3906)\n\nIncluded effects: Time\n"
     ]
    }
   ],
   "source": [
    "print(time)"
   ]
  },
  {
   "cell_type": "code",
   "execution_count": 16,
   "metadata": {},
   "outputs": [
    {
     "output_type": "stream",
     "name": "stdout",
     "text": [
      "                          PanelOLS Estimation Summary                           \n================================================================================\nDep. Variable:             Crude Rate   R-squared:                        0.0000\nEstimator:                   PanelOLS   R-squared (Between):             -0.0664\nNo. Observations:                3926   R-squared (Within):               0.0000\nDate:                Fri, Dec 04 2020   R-squared (Overall):             -0.0620\nTime:                        22:33:36   Log-likelihood                   -7710.7\nCov. Estimator:                Robust                                           \n                                        F-statistic:                      0.0000\nEntities:                         105   P-value                           1.0000\nAvg Obs:                       37.390   Distribution:                  F(1,3820)\nMin Obs:                       1.0000                                           \nMax Obs:                       114.00   F-statistic (robust):          5.492e-29\n                                        P-value                           1.0000\nTime periods:                      19   Distribution:                  F(1,3820)\nAvg Obs:                       206.63                                           \nMin Obs:                       176.00                                           \nMax Obs:                       229.00                                           \n                                                                                \n                             Parameter Estimates                              \n==============================================================================\n            Parameter  Std. Err.     T-stat    P-value    Lower CI    Upper CI\n------------------------------------------------------------------------------\nmin_dist      -0.0023  3.107e+11 -7.411e-15     1.0000  -6.092e+11   6.092e+11\n==============================================================================\n\nF-test for Poolability: 23.187\nP-value: 0.0000\nDistribution: F(104,3820)\n\nIncluded effects: Entity\n"
     ]
    }
   ],
   "source": [
    "print(entity)"
   ]
  },
  {
   "cell_type": "code",
   "execution_count": 17,
   "metadata": {},
   "outputs": [
    {
     "output_type": "stream",
     "name": "stdout",
     "text": [
      "                          PanelOLS Estimation Summary                           \n================================================================================\nDep. Variable:             Crude Rate   R-squared:                        0.0000\nEstimator:                   PanelOLS   R-squared (Between):             -0.0641\nNo. Observations:                3926   R-squared (Within):               0.0000\nDate:                Fri, Dec 04 2020   R-squared (Overall):             -0.0598\nTime:                        22:33:36   Log-likelihood                   -7697.8\nCov. Estimator:                Robust                                           \n                                        F-statistic:                      0.0000\nEntities:                         105   P-value                           1.0000\nAvg Obs:                       37.390   Distribution:                  F(1,3802)\nMin Obs:                       1.0000                                           \nMax Obs:                       114.00   F-statistic (robust):          5.107e-29\n                                        P-value                           1.0000\nTime periods:                      19   Distribution:                  F(1,3802)\nAvg Obs:                       206.63                                           \nMin Obs:                       176.00                                           \nMax Obs:                       229.00                                           \n                                                                                \n                             Parameter Estimates                              \n==============================================================================\n            Parameter  Std. Err.     T-stat    P-value    Lower CI    Upper CI\n------------------------------------------------------------------------------\nmin_dist      -0.0022  3.111e+11 -7.146e-15     1.0000    -6.1e+11     6.1e+11\n==============================================================================\n\nF-test for Poolability: 20.008\nP-value: 0.0000\nDistribution: F(122,3802)\n\nIncluded effects: Entity, Time\n"
     ]
    }
   ],
   "source": [
    "print(both)"
   ]
  },
  {
   "cell_type": "code",
   "execution_count": 19,
   "metadata": {},
   "outputs": [
    {
     "output_type": "stream",
     "name": "stdout",
     "text": [
      "0.0034 0.0007\n-0.0021 0.0003\n0.0034 0.0007\n"
     ]
    }
   ],
   "source": [
    "sdf = df.set_index(['state', 'Year'])\n",
    "mod = PanelOLS(sdf['Crude Rate'], sdf[['min_dist']], entity_effects=True, time_effects=False)\n",
    "entity = mod.fit(cov_type='robust')\n",
    "mod = PanelOLS(sdf['Crude Rate'], sdf[['min_dist']], entity_effects=False, time_effects=True)\n",
    "time = mod.fit(cov_type='robust')\n",
    "mod = PanelOLS(sdf['Crude Rate'], sdf[['min_dist']], entity_effects=True, time_effects=True)\n",
    "both = mod.fit(cov_type='robust')\n",
    "pprint([entity, time, both])"
   ]
  },
  {
   "cell_type": "code",
   "execution_count": 20,
   "metadata": {},
   "outputs": [
    {
     "output_type": "stream",
     "name": "stdout",
     "text": [
      "                          PanelOLS Estimation Summary                           \n================================================================================\nDep. Variable:             Crude Rate   R-squared:                        0.0094\nEstimator:                   PanelOLS   R-squared (Between):             -0.0630\nNo. Observations:                3926   R-squared (Within):              -0.0085\nDate:                Fri, Dec 04 2020   R-squared (Overall):             -0.0553\nTime:                        22:34:22   Log-likelihood                   -8653.9\nCov. Estimator:                Robust                                           \n                                        F-statistic:                      36.924\nEntities:                          38   P-value                           0.0000\nAvg Obs:                       103.32   Distribution:                  F(1,3906)\nMin Obs:                       6.0000                                           \nMax Obs:                       476.00   F-statistic (robust):             56.272\n                                        P-value                           0.0000\nTime periods:                      19   Distribution:                  F(1,3906)\nAvg Obs:                       206.63                                           \nMin Obs:                       176.00                                           \nMax Obs:                       229.00                                           \n                                                                                \n                             Parameter Estimates                              \n==============================================================================\n            Parameter  Std. Err.     T-stat    P-value    Lower CI    Upper CI\n------------------------------------------------------------------------------\nmin_dist      -0.0021     0.0003    -7.5015     0.0000     -0.0026     -0.0015\n==============================================================================\n\nF-test for Poolability: 1.9275\nP-value: 0.0106\nDistribution: F(18,3906)\n\nIncluded effects: Time\n"
     ]
    }
   ],
   "source": [
    "print(time)"
   ]
  },
  {
   "cell_type": "code",
   "execution_count": 22,
   "metadata": {},
   "outputs": [
    {
     "output_type": "stream",
     "name": "stdout",
     "text": [
      "                          PanelOLS Estimation Summary                           \n================================================================================\nDep. Variable:             Crude Rate   R-squared:                        0.0054\nEstimator:                   PanelOLS   R-squared (Between):              0.0960\nNo. Observations:                3926   R-squared (Within):               0.0054\nDate:                Fri, Dec 04 2020   R-squared (Overall):              0.0847\nTime:                        22:34:22   Log-likelihood                   -8241.8\nCov. Estimator:                Robust                                           \n                                        F-statistic:                      21.089\nEntities:                          38   P-value                           0.0000\nAvg Obs:                       103.32   Distribution:                  F(1,3887)\nMin Obs:                       6.0000                                           \nMax Obs:                       476.00   F-statistic (robust):             25.306\n                                        P-value                           0.0000\nTime periods:                      19   Distribution:                  F(1,3887)\nAvg Obs:                       206.63                                           \nMin Obs:                       176.00                                           \nMax Obs:                       229.00                                           \n                                                                                \n                             Parameter Estimates                              \n==============================================================================\n            Parameter  Std. Err.     T-stat    P-value    Lower CI    Upper CI\n------------------------------------------------------------------------------\nmin_dist       0.0034     0.0007     5.0306     0.0000      0.0021      0.0047\n==============================================================================\n\nF-test for Poolability: 25.690\nP-value: 0.0000\nDistribution: F(37,3887)\n\nIncluded effects: Entity\n"
     ]
    }
   ],
   "source": [
    "print(entity)"
   ]
  },
  {
   "cell_type": "code",
   "execution_count": 21,
   "metadata": {},
   "outputs": [
    {
     "output_type": "stream",
     "name": "stdout",
     "text": [
      "                          PanelOLS Estimation Summary                           \n================================================================================\nDep. Variable:             Crude Rate   R-squared:                        0.0055\nEstimator:                   PanelOLS   R-squared (Between):              0.0966\nNo. Observations:                3926   R-squared (Within):               0.0054\nDate:                Fri, Dec 04 2020   R-squared (Overall):              0.0852\nTime:                        22:34:22   Log-likelihood                   -8225.3\nCov. Estimator:                Robust                                           \n                                        F-statistic:                      21.434\nEntities:                          38   P-value                           0.0000\nAvg Obs:                       103.32   Distribution:                  F(1,3869)\nMin Obs:                       6.0000                                           \nMax Obs:                       476.00   F-statistic (robust):             25.708\n                                        P-value                           0.0000\nTime periods:                      19   Distribution:                  F(1,3869)\nAvg Obs:                       206.63                                           \nMin Obs:                       176.00                                           \nMax Obs:                       229.00                                           \n                                                                                \n                             Parameter Estimates                              \n==============================================================================\n            Parameter  Std. Err.     T-stat    P-value    Lower CI    Upper CI\n------------------------------------------------------------------------------\nmin_dist       0.0034     0.0007     5.0703     0.0000      0.0021      0.0048\n==============================================================================\n\nF-test for Poolability: 17.943\nP-value: 0.0000\nDistribution: F(55,3869)\n\nIncluded effects: Entity, Time\n"
     ]
    }
   ],
   "source": [
    "print(both)"
   ]
  }
 ]
}