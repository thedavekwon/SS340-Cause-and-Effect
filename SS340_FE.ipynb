{
 "metadata": {
  "language_info": {
   "codemirror_mode": {
    "name": "ipython",
    "version": 3
   },
   "file_extension": ".py",
   "mimetype": "text/x-python",
   "name": "python",
   "nbconvert_exporter": "python",
   "pygments_lexer": "ipython3",
   "version": "3.6.9-final"
  },
  "orig_nbformat": 2,
  "kernelspec": {
   "name": "python3",
   "display_name": "Python 3.6.9 64-bit ('venv')",
   "metadata": {
    "interpreter": {
     "hash": "ece91bb22fb5b6bc628a05a304f84753a89a677a928fbb6e94b3106cef71ed5e"
    }
   }
  }
 },
 "nbformat": 4,
 "nbformat_minor": 2,
 "cells": [
  {
   "cell_type": "code",
   "execution_count": 108,
   "metadata": {},
   "outputs": [],
   "source": [
    "from linearmodels import PanelOLS\n",
    "from statsmodels.iolib.summary2 import summary_col\n",
    "import pandas as pd\n",
    "import numpy as np"
   ]
  },
  {
   "cell_type": "code",
   "execution_count": 109,
   "metadata": {},
   "outputs": [
    {
     "output_type": "stream",
     "name": "stdout",
     "text": [
      "105\n38\n19\n"
     ]
    }
   ],
   "source": [
    "df = pd.read_csv('processed.csv')\n",
    "df['MSA'].astype('str')\n",
    "df['state'] = df['MSA'].apply(lambda x: x.split(',')[1].strip())\n",
    "print(len(np.unique(df['MSA'])))\n",
    "print(len(np.unique(df['state'])))\n",
    "print(len(np.unique(df['Year'])))\n",
    "df['Year'] = df['Year'].astype(int)\n",
    "df['const'] = 1"
   ]
  },
  {
   "cell_type": "code",
   "execution_count": 110,
   "metadata": {},
   "outputs": [],
   "source": [
    "tdf = df.set_index(['MSA', 'Year'])"
   ]
  },
  {
   "cell_type": "code",
   "execution_count": 111,
   "metadata": {},
   "outputs": [],
   "source": [
    "def pprint(results):\n",
    "    for result in results:\n",
    "        print(round(result.params.values[0], 4), round(result.std_errors.values[0], 4))"
   ]
  },
  {
   "cell_type": "code",
   "execution_count": 149,
   "metadata": {},
   "outputs": [
    {
     "output_type": "stream",
     "name": "stdout",
     "text": [
      "-0.0021 0.0003\n"
     ]
    }
   ],
   "source": [
    "mod = PanelOLS(tdf['Crude Rate'], tdf[['min_dist']], entity_effects=False, time_effects=True)\n",
    "time = mod.fit(cov_type='robust')\n",
    "pprint([time])"
   ]
  },
  {
   "cell_type": "code",
   "execution_count": 150,
   "metadata": {},
   "outputs": [
    {
     "output_type": "stream",
     "name": "stdout",
     "text": [
      "                          PanelOLS Estimation Summary                           \n================================================================================\nDep. Variable:             Crude Rate   R-squared:                        0.0094\nEstimator:                   PanelOLS   R-squared (Between):             -0.0592\nNo. Observations:                3926   R-squared (Within):               0.0000\nDate:                Sun, Dec 06 2020   R-squared (Overall):             -0.0553\nTime:                        16:08:30   Log-likelihood                   -8653.9\nCov. Estimator:                Robust                                           \n                                        F-statistic:                      36.924\nEntities:                         105   P-value                           0.0000\nAvg Obs:                       37.390   Distribution:                  F(1,3906)\nMin Obs:                       1.0000                                           \nMax Obs:                       114.00   F-statistic (robust):             56.272\n                                        P-value                           0.0000\nTime periods:                      19   Distribution:                  F(1,3906)\nAvg Obs:                       206.63                                           \nMin Obs:                       176.00                                           \nMax Obs:                       229.00                                           \n                                                                                \n                             Parameter Estimates                              \n==============================================================================\n            Parameter  Std. Err.     T-stat    P-value    Lower CI    Upper CI\n------------------------------------------------------------------------------\nmin_dist      -0.0021     0.0003    -7.5015     0.0000     -0.0026     -0.0015\n==============================================================================\n\nF-test for Poolability: 1.9275\nP-value: 0.0106\nDistribution: F(18,3906)\n\nIncluded effects: Time\n"
     ]
    }
   ],
   "source": [
    "print(time)"
   ]
  },
  {
   "cell_type": "code",
   "execution_count": 116,
   "metadata": {},
   "outputs": [
    {
     "output_type": "stream",
     "name": "stdout",
     "text": [
      "0.0034 0.0007\n-0.0021 0.0003\n0.0034 0.0007\n"
     ]
    }
   ],
   "source": [
    "sdf = df.set_index(['state', 'Year'])\n",
    "mod = PanelOLS(sdf['Crude Rate'], sdf[['min_dist']], entity_effects=True, time_effects=False)\n",
    "entity = mod.fit(cov_type='robust')\n",
    "mod = PanelOLS(sdf['Crude Rate'], sdf[['min_dist']], entity_effects=False, time_effects=True)\n",
    "time = mod.fit(cov_type='robust')\n",
    "mod = PanelOLS(sdf['Crude Rate'], sdf[['min_dist']], entity_effects=True, time_effects=True)\n",
    "both = mod.fit(cov_type='robust')\n",
    "pprint([entity, time, both])"
   ]
  },
  {
   "cell_type": "code",
   "execution_count": 117,
   "metadata": {},
   "outputs": [
    {
     "output_type": "stream",
     "name": "stdout",
     "text": [
      "                          PanelOLS Estimation Summary                           \n================================================================================\nDep. Variable:             Crude Rate   R-squared:                        0.0094\nEstimator:                   PanelOLS   R-squared (Between):             -0.0630\nNo. Observations:                3926   R-squared (Within):              -0.0085\nDate:                Sun, Dec 06 2020   R-squared (Overall):             -0.0553\nTime:                        16:00:26   Log-likelihood                   -8653.9\nCov. Estimator:                Robust                                           \n                                        F-statistic:                      36.924\nEntities:                          38   P-value                           0.0000\nAvg Obs:                       103.32   Distribution:                  F(1,3906)\nMin Obs:                       6.0000                                           \nMax Obs:                       476.00   F-statistic (robust):             56.272\n                                        P-value                           0.0000\nTime periods:                      19   Distribution:                  F(1,3906)\nAvg Obs:                       206.63                                           \nMin Obs:                       176.00                                           \nMax Obs:                       229.00                                           \n                                                                                \n                             Parameter Estimates                              \n==============================================================================\n            Parameter  Std. Err.     T-stat    P-value    Lower CI    Upper CI\n------------------------------------------------------------------------------\nmin_dist      -0.0021     0.0003    -7.5015     0.0000     -0.0026     -0.0015\n==============================================================================\n\nF-test for Poolability: 1.9275\nP-value: 0.0106\nDistribution: F(18,3906)\n\nIncluded effects: Time\n"
     ]
    }
   ],
   "source": [
    "print(time)"
   ]
  },
  {
   "cell_type": "code",
   "execution_count": 118,
   "metadata": {},
   "outputs": [
    {
     "output_type": "stream",
     "name": "stdout",
     "text": [
      "                          PanelOLS Estimation Summary                           \n================================================================================\nDep. Variable:             Crude Rate   R-squared:                        0.0054\nEstimator:                   PanelOLS   R-squared (Between):              0.0960\nNo. Observations:                3926   R-squared (Within):               0.0054\nDate:                Sun, Dec 06 2020   R-squared (Overall):              0.0847\nTime:                        16:00:26   Log-likelihood                   -8241.8\nCov. Estimator:                Robust                                           \n                                        F-statistic:                      21.089\nEntities:                          38   P-value                           0.0000\nAvg Obs:                       103.32   Distribution:                  F(1,3887)\nMin Obs:                       6.0000                                           \nMax Obs:                       476.00   F-statistic (robust):             25.306\n                                        P-value                           0.0000\nTime periods:                      19   Distribution:                  F(1,3887)\nAvg Obs:                       206.63                                           \nMin Obs:                       176.00                                           \nMax Obs:                       229.00                                           \n                                                                                \n                             Parameter Estimates                              \n==============================================================================\n            Parameter  Std. Err.     T-stat    P-value    Lower CI    Upper CI\n------------------------------------------------------------------------------\nmin_dist       0.0034     0.0007     5.0306     0.0000      0.0021      0.0047\n==============================================================================\n\nF-test for Poolability: 25.690\nP-value: 0.0000\nDistribution: F(37,3887)\n\nIncluded effects: Entity\n"
     ]
    }
   ],
   "source": [
    "print(entity)"
   ]
  },
  {
   "cell_type": "code",
   "execution_count": 119,
   "metadata": {},
   "outputs": [
    {
     "output_type": "stream",
     "name": "stdout",
     "text": [
      "                          PanelOLS Estimation Summary                           \n================================================================================\nDep. Variable:             Crude Rate   R-squared:                        0.0055\nEstimator:                   PanelOLS   R-squared (Between):              0.0966\nNo. Observations:                3926   R-squared (Within):               0.0054\nDate:                Sun, Dec 06 2020   R-squared (Overall):              0.0852\nTime:                        16:00:26   Log-likelihood                   -8225.3\nCov. Estimator:                Robust                                           \n                                        F-statistic:                      21.434\nEntities:                          38   P-value                           0.0000\nAvg Obs:                       103.32   Distribution:                  F(1,3869)\nMin Obs:                       6.0000                                           \nMax Obs:                       476.00   F-statistic (robust):             25.708\n                                        P-value                           0.0000\nTime periods:                      19   Distribution:                  F(1,3869)\nAvg Obs:                       206.63                                           \nMin Obs:                       176.00                                           \nMax Obs:                       229.00                                           \n                                                                                \n                             Parameter Estimates                              \n==============================================================================\n            Parameter  Std. Err.     T-stat    P-value    Lower CI    Upper CI\n------------------------------------------------------------------------------\nmin_dist       0.0034     0.0007     5.0703     0.0000      0.0021      0.0048\n==============================================================================\n\nF-test for Poolability: 17.943\nP-value: 0.0000\nDistribution: F(55,3869)\n\nIncluded effects: Entity, Time\n"
     ]
    }
   ],
   "source": [
    "print(both)"
   ]
  },
  {
   "cell_type": "code",
   "execution_count": 120,
   "metadata": {},
   "outputs": [
    {
     "output_type": "stream",
     "name": "stdout",
     "text": [
      "-0.0023 310741275662.3998\n-0.0021 0.0003\n-0.0022 311134029423.8452\n"
     ]
    }
   ],
   "source": [
    "mod = PanelOLS(tdf['Crude Rate'], tdf[['min_dist']], entity_effects=True, time_effects=False)\n",
    "entity = mod.fit(cov_type='robust')\n",
    "mod = PanelOLS(tdf['Crude Rate'], tdf[['min_dist']], entity_effects=False, time_effects=True)\n",
    "time = mod.fit(cov_type='robust')\n",
    "mod = PanelOLS(tdf['Crude Rate'], tdf[['min_dist']], entity_effects=True, time_effects=True)\n",
    "both = mod.fit(cov_type='robust')\n",
    "pprint([entity, time, both])"
   ]
  },
  {
   "cell_type": "code",
   "execution_count": 137,
   "metadata": {},
   "outputs": [],
   "source": [
    "# print out dummies\n",
    "year_str = df.reset_index()[['Year']].astype('str')\n",
    "msa_str = df.reset_index()[['MSA']].astype('str')\n",
    "year_str.index = tdf.index\n",
    "msa_str.index = tdf.index\n",
    "tdf['year_str'] = year_str\n",
    "tdf['msa_str'] = msa_str\n",
    "tdf['year_str'] = tdf['year_str'].astype('str')\n",
    "tdf['msa_str'] = tdf['msa_str'].astype('str')"
   ]
  },
  {
   "cell_type": "code",
   "execution_count": 138,
   "metadata": {},
   "outputs": [
    {
     "output_type": "stream",
     "name": "stdout",
     "text": [
      "                          PanelOLS Estimation Summary                           \n================================================================================\nDep. Variable:             Crude Rate   R-squared:                        0.0176\nEstimator:                   PanelOLS   R-squared (Between):             -0.0162\nNo. Observations:                3926   R-squared (Within):               0.0039\nDate:                Sun, Dec 06 2020   R-squared (Overall):              0.0176\nTime:                        16:03:40   Log-likelihood                   -8653.9\nCov. Estimator:                Robust                                           \n                                        F-statistic:                      3.6842\nEntities:                         105   P-value                           0.0000\nAvg Obs:                       37.390   Distribution:                 F(19,3906)\nMin Obs:                       1.0000                                           \nMax Obs:                       114.00   F-statistic (robust):             4.4969\n                                        P-value                           0.0000\nTime periods:                      19   Distribution:                 F(19,3906)\nAvg Obs:                       206.63                                           \nMin Obs:                       176.00                                           \nMax Obs:                       229.00                                           \n                                                                                \n                               Parameter Estimates                               \n=================================================================================\n               Parameter  Std. Err.     T-stat    P-value    Lower CI    Upper CI\n---------------------------------------------------------------------------------\nconst             7.5100     0.1494     50.276     0.0000      7.2171      7.8028\nmin_dist         -0.0021     0.0003    -7.5015     0.0000     -0.0026     -0.0015\nyear_str.2000    -0.0946     0.2187    -0.4326     0.6653     -0.5235      0.3342\nyear_str.2001    -0.1482     0.2118    -0.6999     0.4840     -0.5634      0.2670\nyear_str.2002     0.0301     0.2142     0.1405     0.8883     -0.3899      0.4500\nyear_str.2003     0.1263     0.2098     0.6020     0.5472     -0.2851      0.5377\nyear_str.2004     0.2534     0.2094     1.2102     0.2263     -0.1571      0.6638\nyear_str.2005     0.4819     0.2127     2.2652     0.0236      0.0648      0.8989\nyear_str.2006     0.2366     0.2057     1.1504     0.2500     -0.1666      0.6398\nyear_str.2007     0.4330     0.2080     2.0823     0.0374      0.0253      0.8408\nyear_str.2008     0.4481     0.2141     2.0934     0.0364      0.0284      0.8678\nyear_str.2009     0.4979     0.2236     2.2265     0.0260      0.0595      0.9364\nyear_str.2010     0.4476     0.2033     2.2014     0.0278      0.0490      0.8462\nyear_str.2011     0.4571     0.2124     2.1522     0.0314      0.0407      0.8736\nyear_str.2012     0.3739     0.2075     1.8023     0.0716     -0.0328      0.7807\nyear_str.2013     0.5008     0.2118     2.3643     0.0181      0.0855      0.9161\nyear_str.2014     0.3899     0.2112     1.8461     0.0649     -0.0242      0.8039\nyear_str.2015     0.5998     0.2166     2.7687     0.0057      0.1751      1.0245\nyear_str.2016     0.4017     0.2098     1.9149     0.0556     -0.0096      0.8131\nyear_str.2017     0.2638     0.2060     1.2802     0.2005     -0.1402      0.6677\n=================================================================================\n\n\n"
     ]
    }
   ],
   "source": [
    "mod = PanelOLS(tdf['Crude Rate'], tdf[['const', 'min_dist', 'year_str']], entity_effects=False, time_effects=False, drop_absorbed=True)\n",
    "entity = mod.fit(cov_type='robust')\n",
    "print(entity)"
   ]
  },
  {
   "cell_type": "code",
   "execution_count": 145,
   "metadata": {},
   "outputs": [],
   "source": [
    "# print out dummies\n",
    "year_str = df.reset_index()[['Year']].astype('str')\n",
    "state_str = df.reset_index()[['state']].astype('str')\n",
    "year_str.index = sdf.index\n",
    "state_str.index = sdf.index\n",
    "sdf['year_str'] = year_str\n",
    "sdf['state_str'] = state_str"
   ]
  },
  {
   "cell_type": "code",
   "execution_count": 141,
   "metadata": {},
   "outputs": [
    {
     "output_type": "stream",
     "name": "stdout",
     "text": [
      "                          PanelOLS Estimation Summary                           \n================================================================================\nDep. Variable:             Crude Rate   R-squared:                        0.0176\nEstimator:                   PanelOLS   R-squared (Between):              0.0226\nNo. Observations:                3926   R-squared (Within):              -0.0006\nDate:                Sun, Dec 06 2020   R-squared (Overall):              0.0176\nTime:                        16:04:05   Log-likelihood                   -8653.9\nCov. Estimator:                Robust                                           \n                                        F-statistic:                      3.6842\nEntities:                          38   P-value                           0.0000\nAvg Obs:                       103.32   Distribution:                 F(19,3906)\nMin Obs:                       6.0000                                           \nMax Obs:                       476.00   F-statistic (robust):             4.4969\n                                        P-value                           0.0000\nTime periods:                      19   Distribution:                 F(19,3906)\nAvg Obs:                       206.63                                           \nMin Obs:                       176.00                                           \nMax Obs:                       229.00                                           \n                                                                                \n                               Parameter Estimates                               \n=================================================================================\n               Parameter  Std. Err.     T-stat    P-value    Lower CI    Upper CI\n---------------------------------------------------------------------------------\nconst             7.5100     0.1494     50.276     0.0000      7.2171      7.8028\nmin_dist         -0.0021     0.0003    -7.5015     0.0000     -0.0026     -0.0015\nyear_str.2000    -0.0946     0.2187    -0.4326     0.6653     -0.5235      0.3342\nyear_str.2001    -0.1482     0.2118    -0.6999     0.4840     -0.5634      0.2670\nyear_str.2002     0.0301     0.2142     0.1405     0.8883     -0.3899      0.4500\nyear_str.2003     0.1263     0.2098     0.6020     0.5472     -0.2851      0.5377\nyear_str.2004     0.2534     0.2094     1.2102     0.2263     -0.1571      0.6638\nyear_str.2005     0.4819     0.2127     2.2652     0.0236      0.0648      0.8989\nyear_str.2006     0.2366     0.2057     1.1504     0.2500     -0.1666      0.6398\nyear_str.2007     0.4330     0.2080     2.0823     0.0374      0.0253      0.8408\nyear_str.2008     0.4481     0.2141     2.0934     0.0364      0.0284      0.8678\nyear_str.2009     0.4979     0.2236     2.2265     0.0260      0.0595      0.9364\nyear_str.2010     0.4476     0.2033     2.2014     0.0278      0.0490      0.8462\nyear_str.2011     0.4571     0.2124     2.1522     0.0314      0.0407      0.8736\nyear_str.2012     0.3739     0.2075     1.8023     0.0716     -0.0328      0.7807\nyear_str.2013     0.5008     0.2118     2.3643     0.0181      0.0855      0.9161\nyear_str.2014     0.3899     0.2112     1.8461     0.0649     -0.0242      0.8039\nyear_str.2015     0.5998     0.2166     2.7687     0.0057      0.1751      1.0245\nyear_str.2016     0.4017     0.2098     1.9149     0.0556     -0.0096      0.8131\nyear_str.2017     0.2638     0.2060     1.2802     0.2005     -0.1402      0.6677\n=================================================================================\n\n\n"
     ]
    }
   ],
   "source": [
    "mod = PanelOLS(sdf['Crude Rate'], sdf[['const','min_dist', 'year_str']], entity_effects=False, time_effects=False)\n",
    "entity = mod.fit(cov_type='robust')\n",
    "print(entity)"
   ]
  },
  {
   "cell_type": "code",
   "execution_count": 146,
   "metadata": {},
   "outputs": [
    {
     "output_type": "stream",
     "name": "stdout",
     "text": [
      "                          PanelOLS Estimation Summary                           \n================================================================================\nDep. Variable:             Crude Rate   R-squared:                        0.2036\nEstimator:                   PanelOLS   R-squared (Between):              1.0000\nNo. Observations:                3926   R-squared (Within):               0.0054\nDate:                Sun, Dec 06 2020   R-squared (Overall):              0.2036\nTime:                        16:06:10   Log-likelihood                   -8241.8\nCov. Estimator:                Robust                                           \n                                        F-statistic:                      26.155\nEntities:                          38   P-value                           0.0000\nAvg Obs:                       103.32   Distribution:                 F(38,3887)\nMin Obs:                       6.0000                                           \nMax Obs:                       476.00   F-statistic (robust):             33.694\n                                        P-value                           0.0000\nTime periods:                      19   Distribution:                 F(38,3887)\nAvg Obs:                       206.63                                           \nMin Obs:                       176.00                                           \nMax Obs:                       229.00                                           \n                                                                                \n                              Parameter Estimates                               \n================================================================================\n              Parameter  Std. Err.     T-stat    P-value    Lower CI    Upper CI\n--------------------------------------------------------------------------------\nconst            8.5505     0.3189     26.815     0.0000      7.9254      9.1757\nmin_dist         0.0034     0.0007     5.0306     0.0000      0.0021      0.0047\nstate_str.AR     0.6903     0.4572     1.5098     0.1312     -0.2061      1.5867\nstate_str.AZ    -1.2726     0.3492    -3.6442     0.0003     -1.9573     -0.5879\nstate_str.CA    -2.6837     0.3328    -8.0638     0.0000     -3.3362     -2.0312\nstate_str.CO    -2.9221     0.4546    -6.4278     0.0000     -3.8133     -2.0308\nstate_str.CT    -0.1210     0.3607    -0.3354     0.7373     -0.8283      0.5863\nstate_str.DC    -3.2283     0.3703    -8.7175     0.0000     -3.9543     -2.5022\nstate_str.FL    -0.1802     0.3446    -0.5230     0.6010     -0.8558      0.4954\nstate_str.GA    -2.5284     0.4523    -5.5895     0.0000     -3.4153     -1.6415\nstate_str.IA    -0.4525     0.4194    -1.0790     0.2807     -1.2747      0.3697\nstate_str.ID    -1.3877     0.5010    -2.7696     0.0056     -2.3700     -0.4054\nstate_str.IL    -3.2503     0.3824    -8.4990     0.0000     -4.0001     -2.5005\nstate_str.IN    -1.3337     0.3845    -3.4683     0.0005     -2.0876     -0.5798\nstate_str.KY    -0.6463     0.4231    -1.5274     0.1267     -1.4759      0.1833\nstate_str.LA    -0.9149     0.3767    -2.4287     0.0152     -1.6534     -0.1763\nstate_str.MA    -0.8226     0.3492    -2.3556     0.0185     -1.5073     -0.1380\nstate_str.MD    -1.4183     0.4167    -3.4034     0.0007     -2.2353     -0.6013\nstate_str.ME     0.7290     0.4521     1.6124     0.1070     -0.1574      1.6155\nstate_str.MI    -1.4714     0.3662    -4.0176     0.0001     -2.1895     -0.7534\nstate_str.MO    -0.5801     0.3818    -1.5194     0.1288     -1.3287      0.1685\nstate_str.MS     4.0137     0.5391     7.4445     0.0000      2.9566      5.0707\nstate_str.NC    -0.3334     0.3490    -0.9554     0.3394     -1.0176      0.3508\nstate_str.NE    -1.3250     0.4068    -3.2574     0.0011     -2.1225     -0.5275\nstate_str.NM    -3.0492     0.4531    -6.7295     0.0000     -3.9375     -2.1608\nstate_str.NV    -2.6805     0.3839    -6.9817     0.0000     -3.4332     -1.9278\nstate_str.NY    -1.2723     0.3470    -3.6669     0.0002     -1.9526     -0.5920\nstate_str.OH    -0.4803     0.3321    -1.4462     0.1482     -1.1314      0.1708\nstate_str.OK    -1.4766     0.3783    -3.9031     0.0001     -2.2183     -0.7349\nstate_str.OR    -1.1198     0.3939    -2.8428     0.0045     -1.8920     -0.3475\nstate_str.PA    -0.3282     0.3501    -0.9374     0.3486     -1.0146      0.3582\nstate_str.RI    -0.3318     0.3945    -0.8410     0.4004     -1.1053      0.4417\nstate_str.SC     0.1037     0.3687     0.2812     0.7785     -0.6192      0.8266\nstate_str.TN    -1.0604     0.3512    -3.0191     0.0026     -1.7489     -0.3718\nstate_str.TX    -2.9684     0.3311    -8.9663     0.0000     -3.6175     -2.3194\nstate_str.UT    -3.3025     0.4622    -7.1453     0.0000     -4.2087     -2.3964\nstate_str.VA    -1.3529     0.3605    -3.7533     0.0002     -2.0596     -0.6462\nstate_str.WA    -0.4532     0.3788    -1.1964     0.2316     -1.1959      0.2895\nstate_str.WI    -0.3562     0.3721    -0.9571     0.3386     -1.0857      0.3734\n================================================================================\n\n\n"
     ]
    }
   ],
   "source": [
    "mod = PanelOLS(sdf['Crude Rate'], sdf[['const','min_dist', 'state_str']], entity_effects=False, time_effects=False)\n",
    "entity = mod.fit(cov_type='robust')\n",
    "print(entity)"
   ]
  },
  {
   "cell_type": "code",
   "execution_count": 143,
   "metadata": {},
   "outputs": [
    {
     "output_type": "stream",
     "name": "stdout",
     "text": [
      "                          PanelOLS Estimation Summary                           \n================================================================================\nDep. Variable:             Crude Rate   R-squared:                        0.2103\nEstimator:                   PanelOLS   R-squared (Between):              1.0000\nNo. Observations:                3926   R-squared (Within):               0.0137\nDate:                Sun, Dec 06 2020   R-squared (Overall):              0.2103\nTime:                        16:04:09   Log-likelihood                   -8225.3\nCov. Estimator:                Robust                                           \n                                        F-statistic:                      18.399\nEntities:                          38   P-value                           0.0000\nAvg Obs:                       103.32   Distribution:                 F(56,3869)\nMin Obs:                       6.0000                                           \nMax Obs:                       476.00   F-statistic (robust):             23.412\n                                        P-value                           0.0000\nTime periods:                      19   Distribution:                 F(56,3869)\nAvg Obs:                       206.63                                           \nMin Obs:                       176.00                                           \nMax Obs:                       229.00                                           \n                                                                                \n                               Parameter Estimates                               \n=================================================================================\n               Parameter  Std. Err.     T-stat    P-value    Lower CI    Upper CI\n---------------------------------------------------------------------------------\nconst             8.3059     0.3512     23.650     0.0000      7.6173      8.9944\nmin_dist          0.0034     0.0007     5.0703     0.0000      0.0021      0.0048\nstate_str.AR      0.6190     0.4573     1.3537     0.1759     -0.2775      1.5155\nstate_str.AZ     -1.2728     0.3512    -3.6237     0.0003     -1.9614     -0.5842\nstate_str.CA     -2.6972     0.3362    -8.0226     0.0000     -3.3564     -2.0381\nstate_str.CO     -2.9759     0.4576    -6.5032     0.0000     -3.8730     -2.0787\nstate_str.CT     -0.1201     0.3645    -0.3295     0.7418     -0.8346      0.5945\nstate_str.DC     -3.2294     0.3733    -8.6520     0.0000     -3.9612     -2.4976\nstate_str.FL     -0.2064     0.3480    -0.5930     0.5532     -0.8887      0.4760\nstate_str.GA     -2.5457     0.4528    -5.6224     0.0000     -3.4334     -1.6580\nstate_str.IA     -0.4946     0.4265    -1.1598     0.2462     -1.3308      0.3415\nstate_str.ID     -1.4691     0.5009    -2.9331     0.0034     -2.4511     -0.4871\nstate_str.IL     -3.2495     0.3850    -8.4411     0.0000     -4.0043     -2.4948\nstate_str.IN     -1.3351     0.3881    -3.4398     0.0006     -2.0960     -0.5741\nstate_str.KY     -0.6548     0.4230    -1.5479     0.1217     -1.4842      0.1746\nstate_str.LA     -0.9271     0.3806    -2.4363     0.0149     -1.6733     -0.1810\nstate_str.MA     -0.8233     0.3527    -2.3345     0.0196     -1.5147     -0.1319\nstate_str.MD     -1.4260     0.4218    -3.3810     0.0007     -2.2529     -0.5991\nstate_str.ME      0.6716     0.4530     1.4827     0.1382     -0.2165      1.5597\nstate_str.MI     -1.4752     0.3695    -3.9931     0.0001     -2.1996     -0.7509\nstate_str.MO     -0.5801     0.3794    -1.5289     0.1264     -1.3241      0.1638\nstate_str.MS      3.9429     0.5395     7.3080     0.0000      2.8851      5.0006\nstate_str.NC     -0.3485     0.3518    -0.9908     0.3219     -1.0382      0.3411\nstate_str.NE     -1.3225     0.4103    -3.2231     0.0013     -2.1270     -0.5181\nstate_str.NM     -3.0568     0.4547    -6.7234     0.0000     -3.9482     -2.1655\nstate_str.NV     -2.6838     0.3869    -6.9366     0.0000     -3.4423     -1.9252\nstate_str.NY     -1.2716     0.3505    -3.6282     0.0003     -1.9588     -0.5845\nstate_str.OH     -0.4805     0.3349    -1.4346     0.1515     -1.1371      0.1761\nstate_str.OK     -1.4788     0.3830    -3.8606     0.0001     -2.2298     -0.7278\nstate_str.OR     -1.1218     0.3945    -2.8433     0.0045     -1.8953     -0.3483\nstate_str.PA     -0.3420     0.3532    -0.9684     0.3329     -1.0345      0.3504\nstate_str.RI     -0.3310     0.4021    -0.8231     0.4105     -1.1192      0.4573\nstate_str.SC      0.0836     0.3717     0.2249     0.8221     -0.6452      0.8124\nstate_str.TN     -1.0991     0.3539    -3.1057     0.0019     -1.7929     -0.4052\nstate_str.TX     -2.9841     0.3350    -8.9069     0.0000     -3.6409     -2.3272\nstate_str.UT     -3.3483     0.4638    -7.2192     0.0000     -4.2577     -2.4390\nstate_str.VA     -1.3555     0.3601    -3.7644     0.0002     -2.0614     -0.6495\nstate_str.WA     -0.4920     0.3780    -1.3016     0.1931     -1.2331      0.2491\nstate_str.WI     -0.3602     0.3733    -0.9649     0.3347     -1.0922      0.3717\nyear_str.2000    -0.0431     0.1963    -0.2198     0.8261     -0.4280      0.3417\nyear_str.2001    -0.1557     0.1932    -0.8060     0.4203     -0.5344      0.2230\nyear_str.2002    -0.0012     0.1949    -0.0064     0.9949     -0.3833      0.3808\nyear_str.2003     0.0928     0.1889     0.4912     0.6233     -0.2776      0.4632\nyear_str.2004     0.1806     0.1867     0.9673     0.3335     -0.1855      0.5467\nyear_str.2005     0.3576     0.1910     1.8720     0.0613     -0.0169      0.7321\nyear_str.2006     0.1536     0.1842     0.8338     0.4045     -0.2075      0.5147\nyear_str.2007     0.3365     0.1879     1.7903     0.0735     -0.0320      0.7049\nyear_str.2008     0.3945     0.1919     2.0561     0.0398      0.0183      0.7708\nyear_str.2009     0.4470     0.2023     2.2093     0.0272      0.0503      0.8437\nyear_str.2010     0.4117     0.1819     2.2632     0.0237      0.0551      0.7683\nyear_str.2011     0.3914     0.1910     2.0493     0.0405      0.0169      0.7659\nyear_str.2012     0.3232     0.1861     1.7366     0.0825     -0.0417      0.6881\nyear_str.2013     0.3999     0.1914     2.0899     0.0367      0.0248      0.7751\nyear_str.2014     0.3185     0.1914     1.6641     0.0962     -0.0567      0.6936\nyear_str.2015     0.5334     0.1969     2.7095     0.0068      0.1475      0.9194\nyear_str.2016     0.2988     0.1883     1.5866     0.1127     -0.0704      0.6680\nyear_str.2017     0.1745     0.1860     0.9380     0.3483     -0.1902      0.5392\n=================================================================================\n\n\n"
     ]
    }
   ],
   "source": [
    "mod = PanelOLS(sdf['Crude Rate'], sdf[['const', 'min_dist', 'state_str','year_str']], entity_effects=False, time_effects=False)\n",
    "entity = mod.fit(cov_type='robust')\n",
    "print(entity)"
   ]
  }
 ]
}